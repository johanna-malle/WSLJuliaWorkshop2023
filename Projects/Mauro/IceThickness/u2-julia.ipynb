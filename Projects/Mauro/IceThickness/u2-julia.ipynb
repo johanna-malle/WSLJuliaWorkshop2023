{
 "cells": [
  {
   "cell_type": "markdown",
   "metadata": {},
   "source": [
    "## <span style=\"color:red\"> **Total Points 9** </span>"
   ]
  },
  {
   "cell_type": "markdown",
   "metadata": {},
   "source": [
    "# Script to illustrate the thickness estimation method by Farinotti & al 2009\n",
    "\n",
    "> Farinotti, D., Huss, M., Bauder, A., Funk, M., & Truffer, M. (2009).\n",
    "> A method to estimate the ice volume and ice-thickness distribution\n",
    "> of alpine glaciers. Journal of Glaciology, 55(191), 422-430.\n",
    "\n",
    "This code calculates the along-flow bed profile of Rhonegletscher\n",
    "given 2007 data of glacier outline, surface and flowline coordinates.\n",
    "For Rhonegletscher, absence of debris cover is assumed.\n",
    "\n",
    "Written by Fabian Walter & Mauro Werder (ETH-Zurich / WSL)"
   ]
  },
  {
   "cell_type": "markdown",
   "metadata": {},
   "source": [
    "*Notes*:\n",
    "- you can do this exercise in any programming language you like.\n",
    "- remember to look at the introductory notebook we looked at in lecture 2."
   ]
  },
  {
   "cell_type": "markdown",
   "metadata": {},
   "source": [
    "**Tasks** for you to complete are marked in bold."
   ]
  },
  {
   "cell_type": "markdown",
   "metadata": {},
   "source": [
    "**Task:** **Download and skim the manuscript by [Farinotti & al 2009](https://doi.org/10.3189/002214309788816759)**"
   ]
  },
  {
   "cell_type": "markdown",
   "metadata": {},
   "source": [
    "Import packages which are needed for reading of files and plotting (hit shift+enter to execute the cell)"
   ]
  },
  {
   "cell_type": "code",
   "execution_count": null,
   "metadata": {},
   "outputs": [],
   "source": [
    "using Pkg; Pkg.activate(\".\"); Pkg.add(\"PyPlot\")\n",
    "using DelimitedFiles, PyPlot # DelimitedFiles is a standard lib, so no need to install"
   ]
  },
  {
   "cell_type": "markdown",
   "metadata": {},
   "source": [
    "Define data file names and a function which can read Ascii-grids"
   ]
  },
  {
   "cell_type": "code",
   "execution_count": null,
   "metadata": {},
   "outputs": [],
   "source": [
    "fname_outl = \"glacier_outline_rhone_2007.txt\";\n",
    "fname_flowl = \"flowline_rhone_2007.txt\";\n",
    "fname_surfdem = \"surface_dem_rhone_2007.asc\";\n",
    "fname_mask = \"glacier_mask_rhone_2007.asc\";\n",
    "\n",
    "\"\"\"\n",
    "    read_asc(fl)\n",
    "\n",
    "Read a Ascii grid https://en.wikipedia.org/wiki/Esri_grid.\n",
    "\n",
    "In:\n",
    "- fn -- file name\n",
    "\n",
    "Out\n",
    "- array (rows/first-index correspond to x-dim, columns to y-dim)\n",
    "- x,y\n",
    "\n",
    "Note: there is no need for you to understand this function, just use it.\n",
    "\"\"\"\n",
    "function read_asc(fl)\n",
    "    T = Float64\n",
    "    io = open(fl, \"r\")\n",
    "    toT = (io,T) -> parse(T, split(readline(io))[2])\n",
    "    # read header\n",
    "    nc, nr, xll, yll, dx = toT(io, Int), toT(io, Int), toT(io,Float64), toT(io,Float64), toT(io,Float64)\n",
    "    prop, val = split(readline(io))\n",
    "\n",
    "    # read body\n",
    "    va = Array{T}(undef, nr, nc)\n",
    "    tmp = split(read(io, String))\n",
    "    if length(tmp)!=nc*nr\n",
    "        error(\"Something's wrong with the file/stream $io.  It should contain $(nc*nr) values but has $(length(tmp))\")\n",
    "    end\n",
    "    for i=1:nr, j=1:nc\n",
    "        va[i,j] = parse(T, tmp[(i-1)*nc + j])\n",
    "    end\n",
    "    close(io)\n",
    "\n",
    "    x = range(xll, step=dx, length=nc)\n",
    "    y = range(yll, step=dx, length=nr)\n",
    "\n",
    "    return rotr90(va), x, y\n",
    "end"
   ]
  },
  {
   "cell_type": "markdown",
   "metadata": {},
   "source": [
    "Read in data:"
   ]
  },
  {
   "cell_type": "code",
   "execution_count": null,
   "metadata": {},
   "outputs": [],
   "source": [
    "outl = readdlm(fname_outl) # glacier outline\n",
    "flowl = readdlm(fname_flowl,header=true)[1] # the central flow-line\n",
    "fx, fy, f_surf, f_bed, f_width = flowl[:,1], flowl[:,2], flowl[:,3], flowl[:,4], flowl[:,5]\n",
    "surfdem, x, y = read_asc(fname_surfdem) # the surface DEM\n",
    "mask, x, y = read_asc(fname_mask) # the mask of the glacier\n",
    "mask = convert(BitMatrix, mask); # make it into an array of Boolean\n",
    "dx, dy = step(x), step(y) # the grid-spacing"
   ]
  },
  {
   "cell_type": "markdown",
   "metadata": {},
   "source": [
    "Calculate curvlinear, along flow coordinate, which starts\n",
    "at glacier head and grows towards terminus:"
   ]
  },
  {
   "cell_type": "code",
   "execution_count": null,
   "metadata": {},
   "outputs": [],
   "source": [
    "s = zeros(size(flowl,1));\n",
    "s[1] = 0;\n",
    "for i=2:length(fx)\n",
    "   s[i] = s[i-1] + sqrt( (fx[i]-fx[i-1])^2 + (fy[i]-fy[i-1])^2);\n",
    "end"
   ]
  },
  {
   "cell_type": "markdown",
   "metadata": {},
   "source": [
    "Plot of glacier bed and surface versus the along flow coordinate.\n",
    "Glacier bed is known from radar and\n",
    "considered as \"ground truth\" for our purposes:"
   ]
  },
  {
   "cell_type": "code",
   "execution_count": null,
   "metadata": {},
   "outputs": [],
   "source": [
    "figure()\n",
    "plot(s, f_surf,\"k--\")\n",
    "plot(s, f_bed,\"k\")\n",
    "legend([\"Glacier surface\";\"Glacier bed (from radar)\"])\n",
    "xlabel(\"Along-flow coordinate (m)\")\n",
    "ylabel(\"Elevation above sea level (m)\")"
   ]
  },
  {
   "cell_type": "markdown",
   "metadata": {},
   "source": [
    "Plot of glacier map with flow line and outline:"
   ]
  },
  {
   "cell_type": "code",
   "execution_count": null,
   "metadata": {},
   "outputs": [],
   "source": [
    "figure(figsize=(10,10))\n",
    "PyPlot.axis(\"equal\")\n",
    "X, Y = x.+y'*0, x*0 .+y';\n",
    "contour(X, Y, surfdem, 1500:50:4000);\n",
    "plot(outl[:,1], outl[:,2], \"k*\")\n",
    "plot(fx, fy, \"k.-\")\n",
    "xlabel(\"Easting (m in CH1903/LV03)\")\n",
    "ylabel(\"Northing (m in CH1903/LV03)\")"
   ]
  },
  {
   "cell_type": "markdown",
   "metadata": {},
   "source": [
    "**Task 1:** **We need to determine the ELA of the apparent\n",
    "mass balance. z_ela = 2870 is a good choice. Write\n",
    "a short piece of code to support this value.\n",
    "Use the values given below for the apparent mass balance\n",
    "gradients `gacc` and `gabl`.**\n",
    "**What value should `Btilde` approximate?**\n",
    "\n",
    "Hints:\n",
    "(0) fill in the `...` in below code-block\n",
    "(1) write a function which calculates `btilde` for a `z` and a `z_ela`\n",
    "(2) loop over all the points on the grid, if they are within the glacier (see\n",
    "    `mask`) then sum their `btilde` to get `Btilde`."
   ]
  },
  {
   "cell_type": "markdown",
   "metadata": {},
   "source": [
    "### <span style=\"color:red\"> **Points 2** </span>"
   ]
  },
  {
   "cell_type": "code",
   "execution_count": null,
   "metadata": {},
   "outputs": [],
   "source": [
    "gacc = 1.0*0.5*10^(-2); # apparent mass-balance gradient in accumulation zone\n",
    "gabl = 1.0*0.9*10^(-2); # apparent mass-balance gradient in ablation zone\n",
    "z_ela = 2870; # the \"ELA\" of the apparent mass-balance, i.e. the elevation where it is zero\n",
    "\n",
    "function btilde(z, gacc, gabl, z_ela)\n",
    "    if z>z_ela\n",
    "        return ...\n",
    "    else\n",
    "        return ...\n",
    "    end\n",
    "end\n",
    "Btilde = 0.0\n",
    "for i = 1:length(surfdem)\n",
    "    if ...\n",
    "        Btilde = Btilde + ...\n",
    "    end\n",
    "end\n",
    "Btilde"
   ]
  },
  {
   "cell_type": "markdown",
   "metadata": {},
   "source": [
    "Calculate volume flux. This requires integrating\n",
    "the apparent mass balance over the contributing\n",
    "glacier surface upstream of the coordinate. Identifying\n",
    "the contributing surface is difficult to automate. Here we\n",
    "simply assume that the contributing surface is at higher\n",
    "elevations than the flowline coordinate."
   ]
  },
  {
   "cell_type": "code",
   "execution_count": null,
   "metadata": {},
   "outputs": [],
   "source": [
    "function flux_at_z(z, z_ela)\n",
    "    Q = 0.0\n",
    "    for i = 1:length(surfdem)\n",
    "        zz = surfdem[i]\n",
    "        if mask[i] && zz>=z\n",
    "            Q = Q + dx*dy* btilde(zz, gacc, gabl, z_ela)\n",
    "        end\n",
    "    end\n",
    "    return Q\n",
    "end\n",
    "# Evaluate the volume flux for each flow-line point:\n",
    "flux_at_z.(f_surf, z_ela)' ## note the \".\": it applies the function to all elements of the input\n",
    "                           # the ' is transpose, just to make more compact printing"
   ]
  },
  {
   "cell_type": "markdown",
   "metadata": {},
   "source": [
    "**Task 2:** **Can you think of a different (better) way to do above flux calculation or is this good enough?**\n",
    "\n",
    "Your answer (double click to type):"
   ]
  },
  {
   "cell_type": "markdown",
   "metadata": {},
   "source": [
    "### <span style=\"color:red\"> **Points 1** </span>"
   ]
  },
  {
   "cell_type": "markdown",
   "metadata": {},
   "source": [
    "Now we want to apply equation (7) in Farinotti et al. (2009)\n",
    "\n",
    "$H = \\left( \\frac{\\bar q}{2 A}  \\frac{n+2}{(C \\rho g \\tan(\\alpha))^n} \\right)^{1/(n+2)}$\n",
    "\n",
    "We already have `qbar = Q/f_width`.  But we also need the surface slope `tan(alpha) = d z_s / d s`\n",
    "(where `z_s` is the surface elevation and `s` the along flow line coordinate)"
   ]
  },
  {
   "cell_type": "markdown",
   "metadata": {},
   "source": [
    "To calculate slope for each flowline grid point, we just take the mean of the forward\n",
    "and backward finite difference to approximate the gradient.  This is a bit sloppy\n",
    "but should be ok:"
   ]
  },
  {
   "cell_type": "code",
   "execution_count": null,
   "metadata": {},
   "outputs": [],
   "source": [
    "slope = zeros(length(s))\n",
    "for i = 2:length(s)-1\n",
    "    zabove,zmid,zbelow = f_surf[i-1:i+1]\n",
    "    sabove,smid,sbelow = s[i-1:i+1]\n",
    "    slope[i] = 1/2*( (zmid-zabove)/(smid-sabove) + (zbelow-zmid)/(sbelow-smid))\n",
    "end\n",
    "# special case start and end\n",
    "slope[1] = (f_surf[2]-f_surf[1])/(s[2]-s[1])\n",
    "slope[end] = (f_surf[end]-f_surf[end-1])/(s[end]-s[end-1])\n",
    "slope' # the ' is transpose, just to make more compact printing"
   ]
  },
  {
   "cell_type": "markdown",
   "metadata": {},
   "source": [
    "**Task 3:** **Plot the slope vs flow-line coordinate, together with the flow-line surface and bed topography:**\n",
    "### <span style=\"color:red\"> **Points 1** </span>"
   ]
  },
  {
   "cell_type": "markdown",
   "metadata": {},
   "source": []
  },
  {
   "cell_type": "code",
   "execution_count": null,
   "metadata": {},
   "outputs": [],
   "source": [
    "figure();\n",
    "... ## plot surface\n",
    "... ## plot bed\n",
    "ylabel(\"Elevation (m)\")\n",
    "xlabel(\"Along-flow coordinate (m)\")\n",
    "ax = twinx()\n",
    "... ## plot slope\n",
    "ax.set_ylabel(\"Surface slope (deg)\")"
   ]
  },
  {
   "cell_type": "markdown",
   "metadata": {},
   "source": [
    "Calculate thickness. Note that glacier width `f_width` was read off the map manually.\n",
    "We only treat points where the flux Q is non-zero (below there is no more glacier).\n",
    "\n",
    "**Task 3:**\n",
    "- **fill the gaps marked with `...`**\n",
    "- **Change the value of C to investigate (and report) the sensitivity of the thickness calculation.**\n",
    "- **Plot glacier surface with bed from radar and bed from calculation, i.e. modify the first figure of this notebook.**"
   ]
  },
  {
   "cell_type": "markdown",
   "metadata": {},
   "source": [
    "### <span style=\"color:red\"> **Points 3** </span>"
   ]
  },
  {
   "cell_type": "code",
   "execution_count": null,
   "metadata": {},
   "outputs": [],
   "source": [
    "# Constants\n",
    "A = 2.4*10^(-15); # ice flow factor\n",
    "n = 3; # Glen's n\n",
    "C = 0.25; # factor of Farinotti &al 2009\n",
    "rho = 900; # density of ice\n",
    "g = 9.81; # accel. due to gravity\n",
    "\n",
    "# Loop over all points on the flow-line:\n",
    "Q = zeros(length(s));\n",
    "H = zeros(length(s));\n",
    "qbar = zeros(length(s));\n",
    "for i = 1:length(s)\n",
    "    Q[i] = ...\n",
    "    if Q[i]<=0\n",
    "        Q[i] = qbar[i] = H[i] = 0\n",
    "        continue\n",
    "    end\n",
    "    # Ice volume flux\n",
    "    qbar[i] = ...\n",
    "    # Equation (7) in Farinotti et al. (2009)\n",
    "    # (if you get a DomainError, you may need an `abs`\n",
    "    H[i] = ...\n",
    "end\n",
    "H'"
   ]
  },
  {
   "cell_type": "code",
   "execution_count": null,
   "metadata": {},
   "outputs": [],
   "source": [
    "# Plot it!"
   ]
  },
  {
   "cell_type": "markdown",
   "metadata": {},
   "source": [
    "**Task 4:** **Discuss how portable the approach by Farinotti & al 2009 is to other\n",
    "glacier catchments. Is this a means to estimate glacier volumes for entire\n",
    "mountain ranges, continents or the entire earth? If you challenge one or more\n",
    "of the method's assumptions, then explain why this is a significant\n",
    "shortcoming. Your answer should be concise and not exceed 15 sentences.**\n",
    "\n",
    "Type your answer here:"
   ]
  },
  {
   "cell_type": "markdown",
   "metadata": {},
   "source": [
    "### <span style=\"color:red\"> **Points 2** </span>"
   ]
  },
  {
   "cell_type": "markdown",
   "metadata": {},
   "source": [
    "Extra: We're still left with extrapolating our result back into 2D map-plane... but that\n",
    "left as a *ungraded* exercise for the avid student.  Consult Farinotti & al 2009 on\n",
    "how to go about this."
   ]
  }
 ],
 "metadata": {
  "kernelspec": {
   "display_name": "Julia 1.8.3",
   "language": "julia",
   "name": "julia-1.8"
  },
  "language_info": {
   "file_extension": ".jl",
   "mimetype": "application/julia",
   "name": "julia",
   "version": "1.8.3"
  }
 },
 "nbformat": 4,
 "nbformat_minor": 3
}
