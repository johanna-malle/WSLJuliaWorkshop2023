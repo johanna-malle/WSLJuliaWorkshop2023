{
  "cells": [
    {
      "cell_type": "markdown",
      "source": [
        "# Introduction to Arrays and DataFrames in Julia\n\nIn Julia, arrays are the fundamental way to store and manipulate collections of data. Julia supports arrays of any dimension and can be used to store various types of data such as integers, floating-point numbers, and strings. In addition to arrays, Julia has a package called DataFrames.jl, which provides a tabular data structure that is similar to a spreadsheet or database table.\n\n## Indexing and Slicing Arrays in Julia\n\nIndexing and slicing arrays in Julia are similar to other programming languages. Indexing an array in Julia starts with an index of 1, unlike some programming languages that start with 0. To create an array in Julia, use the square bracket notation `[]`.\n\nHere is an example of creating an array and indexing:\n\n```julia\n# Creating an array\na = [1, 2, 3, 4, 5]\n\n# Indexing an array\nprintln(a[1]) # Output: 1\n\n```\nSlicing an array allows you to select a subset of an array. In Julia, you can use the colon notation to slice an array.\n\n```julia\n\n# Slicing an array\nprintln(a[2:4]) # Output: [2, 3, 4]\n```\n\n## Matrix Operations in Julia\n\nIn Julia, matrix operations are fast and efficient. Julia has built-in functions to perform basic matrix operations such as addition, multiplication, and inversion. Here is an example of matrix multiplication in Julia:\n\n```julia\n# Creating matrices\nA = [1 2; 3 4]\nB = [5 6; 7 8]\n\n# Matrix multiplication\nC = A * B\n\n# Displaying the result\nprintln(C) # Output: [19 22; 43 50]\n```\n\n## Broadcasting in Julia\n\nBroadcasting in Julia is a powerful feature that allows you to apply an operation to every element in an array. Broadcasting in Julia is performed using the dot notation. Here is an example of broadcasting:\n\n```julia\n# Creating an array\na = [1, 2, 3, 4, 5]\n\n# Broadcasting\nprintln.(a) # Output: 1 2 3 4 5\n```\n\n## DataFrames in Julia\n\nDataFrames in Julia are similar to spreadsheets or database tables. DataFrames are stored in a tabular format with rows and columns. The first row of the DataFrame contains the column names, and each subsequent row contains the data. Here is an example of creating a DataFrame in Julia:\n\n```julia\n\n# Using the DataFrames package\nusing DataFrames\n\n# Creating a DataFrame\ndf = DataFrame(A = [1, 2, 3], B = [4, 5, 6], C = [7, 8, 9])\n\n# Displaying the DataFrame\nprintln(df)\n```\n\n## Importing CSV Files in Julia\n\nJulia has a built-in function to import CSV files. The CSV.jl package provides support for CSV files. Here is an example of importing a CSV file in Julia:\n\n``` julia\n\n# Using the CSV package\nusing CSV\n\n# Importing a CSV file\ndf = CSV.read(\"data.csv\")\n\n# Displaying the DataFrame\nprintln(df)\n```\n\n## Conclusion\n\nIn this tutorial, we covered the basics of arrays, DataFrames, and loading CSV files in Julia. We learned how to index and slice arrays, perform matrix operations, use broadcasting, create and use DataFrames, and import CSV files. These are the fundamental skills that any Julia programmer should know.\n\n## Additional resources\n-  [Comparing DataFrames.jl syntax with other data manipulation frameworks in Python, R, and Stata](https://dataframes.juliadata.org/stable/man/comparisons/)"
      ],
      "metadata": {}
    }
  ],
  "nbformat_minor": 2,
  "metadata": {
    "language_info": {
      "file_extension": ".jl",
      "mimetype": "application/julia",
      "name": "julia",
      "version": "1.8.5"
    },
    "kernelspec": {
      "name": "julia-1.8",
      "display_name": "Julia 1.8.5",
      "language": "julia"
    }
  },
  "nbformat": 4
}
