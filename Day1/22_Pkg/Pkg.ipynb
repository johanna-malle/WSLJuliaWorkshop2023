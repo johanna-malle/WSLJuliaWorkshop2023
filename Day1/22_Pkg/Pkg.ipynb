{
 "cells": [
  {
   "cell_type": "markdown",
   "metadata": {
    "slideshow": {
     "slide_type": "slide"
    }
   },
   "source": [
    "## Packages Management\n",
    "\n",
    "Julia has a built-in package manager called `Pkg` which can be used to install and manage packages. `Pkg` allows users to install, update, and manage the packages used in their projects. \n",
    "\n",
    "You can use the `Pkg` in three different ways"
   ]
  },
  {
   "cell_type": "markdown",
   "metadata": {},
   "source": [
    "\n",
    "### REPL prompt\n"
   ]
  },
  {
   "cell_type": "markdown",
   "metadata": {},
   "source": [
    "\n",
    "1. To use `Pkg`, start by typing `]` in the Julia REPL (read-eval-print loop). This will take you to the package manager prompt. \n",
    "2. From the package manager prompt, you can execute a variety of commands. Some of the most commonly used ones include: \n",
    "- `add`: adds a package to the current project \n",
    "- `rm`: removes a package to the current project\n",
    "- `update`: updates all packages in the current project to their latest versions \n",
    "- `activate`: switches to a different project environment \n",
    "- `instantiate`: installs all packages specified in a project's `Project.toml` file \n",
    "1. When you run `add` to install a package, `Pkg` will download and install the package, along with any dependencies it requires.\n",
    "\n",
    "2. To load a package in your code, you can use the `using` keyword followed by the package name. For example, to load the `CSV` package, you would write `using CSV` at the top of your code. \n",
    "\n",
    "3. `Pkg` also allows you to manage different versions of a package across different projects. This is useful to keep project environments reproducible, nice and tidy.\n"
   ]
  },
  {
   "cell_type": "markdown",
   "metadata": {},
   "source": [
    "### Scripting\n",
    "```julia\n",
    "using Pkg\n",
    "Pkg.add(\"PackageName\")\n",
    "Pkg.update()\n",
    "Pkg.rm(\"PackageName\")\n",
    "Pkg.activate(\"path/to/environment\")\n",
    "Pkg.instantiate()\n",
    "Pkg.status()\n",
    "```"
   ]
  },
  {
   "cell_type": "markdown",
   "metadata": {},
   "source": [
    "### `pkg\"\"` \n",
    "\n",
    "```julia\n",
    "pkg\"add CSV\"\n",
    "```"
   ]
  },
  {
   "cell_type": "markdown",
   "metadata": {},
   "source": [
    "### `Project.toml` and `Manifest.toml`\n",
    "Two files that are central to Pkg are `Project.toml` and `Manifest.toml`. They are generated with you add the first dependency in your project. They include information about dependencies, versions, package names, UUIDs etc."
   ]
  },
  {
   "cell_type": "markdown",
   "metadata": {},
   "source": [
    "\n",
    "#### `Project.toml`\n",
    "Looks like that\n",
    "\n",
    "```text\n",
    "[deps]\n",
    "DataFrames = \"a93c6f00-e57d-5684-b7b6-d8193f3e46c0\"\n",
    "Flux = \"587475ba-b771-5e3f-ad9e-33799f191a9c\"\n",
    "MLDatasets = \"eb30cadb-4394-5ae3-aed4-317e484a6458\"\n",
    "Statistics = \"10745b16-79ce-11e8-11f9-7d13ad32a3b2\"\n",
    "```\n",
    "All dependencies of the package/project are listed in the [deps] section. Each dependency is listed as a name-uuid pair.\n",
    "\n",
    "UUID is a string with a universally unique identifier for the package/project\n"
   ]
  },
  {
   "cell_type": "markdown",
   "metadata": {},
   "source": [
    "\n",
    "##### Optional fields\n",
    "```\n",
    "[deps]\n",
    "Example = \"7876af07-990d-54b4-ab0e-23690620f79a\"\n",
    "\n",
    "[compat]\n",
    "Example = \"1.2\"\n",
    "```"
   ]
  },
  {
   "cell_type": "markdown",
   "metadata": {},
   "source": [
    "\n",
    "##### Additional fields for a package\n",
    "```\n",
    "name = \"PackageName\"\n",
    "uuid = \"96372a6d-8f12-4b28-95ba-ac697ae6fb10\"\n",
    "authors = [\"Victor Boussange\"]\n",
    "version = \"0.1.0\"\n",
    "```\n",
    "\n",
    "Those are generated when you do \n",
    "\n",
    "```\n",
    "julia >] generate PackageName\n",
    "```"
   ]
  },
  {
   "cell_type": "markdown",
   "metadata": {},
   "source": [
    "\n",
    "#### `Manifest.toml`\n",
    "The manifest file is an absolute record of the state of the packages in the environment. It includes exact information about (direct and indirect) dependencies of the project. Given a Project.toml + Manifest.toml pair, it is possible to instantiate the exact same package environment, which is very useful for reproducibility. For the details, see Pkg.instantiate.\n",
    "\n",
    "When you do not care about reproducibility, you do not have to track this file. In Julia packages, this file is not provided, to be flexible with each user specific environment. However, for research project, it is sensible to track it.\n",
    "\n"
   ]
  },
  {
   "cell_type": "markdown",
   "metadata": {},
   "source": [
    "\n",
    "### Advanced package management\n",
    "You can add a package which is not registered by its remote repo address\n",
    "\n",
    "```julia\n",
    "julia>] add https://github.com/vboussange/ParametricModels.jl\n",
    "```\n"
   ]
  },
  {
   "cell_type": "markdown",
   "metadata": {},
   "source": [
    "\n",
    "Or its path\n",
    "\n",
    "```julia\n",
    "julia>] add path/to/my/awesome/package\n",
    "```\n"
   ]
  },
  {
   "cell_type": "markdown",
   "metadata": {},
   "source": [
    "\n",
    "You can also ask for a specific version of a package\n",
    "\n",
    "```julia\n",
    "julia>] add MyPackage@0.12.0\n",
    "```\n"
   ]
  },
  {
   "attachments": {},
   "cell_type": "markdown",
   "metadata": {},
   "source": [
    "#### Developing a package: `dev`\n",
    "\n",
    "The `dev` function in Julia's `Pkg` module is used to develop a package locally, by specifying a local path to the package's source code. This can be useful during development and testing of a package, as it allows you to make changes to the package's source code and immediately see the effects without having to reinstall the package every time.\n",
    "\n",
    "```julia\n",
    "julia> ] dev /path/to/package\n",
    "```"
   ]
  },
  {
   "cell_type": "markdown",
   "metadata": {},
   "source": [
    "\n",
    "#### Stacked environment\n",
    "Note that the default environment (located somewhere at `~/.julia/environments/v1.8`) is stacked onto the project environment. This can be convenient, if you do not want to include certain dependencies in your project yet use it for some particular purposes.\n",
    "\n",
    "A good example for that is `BenchmarkTools` package, that you may use sporadically.\n",
    "\n",
    "```julia\n",
    "using BenchmarkTools\n",
    "@btime randn(100,100)\n",
    "```\n"
   ]
  },
  {
   "cell_type": "markdown",
   "metadata": {},
   "source": [
    "\n",
    "### Adding external registries\n",
    "\n",
    "[Here](https://github.com/JuliaRegistries/General) is what the official registry of general Julia packages.\n",
    "\n",
    "But you can add non-official registries as well!\n",
    "\n",
    "```julia\n",
    "using Pkg\n",
    "pkg\"registry add https://github.com/vboussange/VBoussangeRegistry.git\"\n",
    "```\n"
   ]
  },
  {
   "attachments": {},
   "cell_type": "markdown",
   "metadata": {},
   "source": [
    "### Your turn!\n",
    "\n",
    "Let's try to put this into practice. In `Day1/23_practical-guidelines/iris`, you'll find a Julia script `iris.jl`, together with its associated dependencies in the `.toml` files. `activate` and `instantiate` the project, and try to run `iris.jl`!"
   ]
  },
  {
   "cell_type": "markdown",
   "metadata": {},
   "source": []
  }
 ],
 "metadata": {
  "language_info": {
   "name": "python"
  },
  "orig_nbformat": 4
 },
 "nbformat": 4,
 "nbformat_minor": 2
}
