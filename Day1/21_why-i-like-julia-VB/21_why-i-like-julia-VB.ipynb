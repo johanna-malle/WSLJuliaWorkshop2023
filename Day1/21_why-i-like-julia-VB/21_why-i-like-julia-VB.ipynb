{
 "cells": [
  {
   "cell_type": "markdown",
   "metadata": {
    "slideshow": {
     "slide_type": "slide"
    }
   },
   "source": [
    "# Why I like Julia\n",
    "by Victor Boussange"
   ]
  },
  {
   "cell_type": "markdown",
   "metadata": {
    "slideshow": {
     "slide_type": "slide"
    }
   },
   "source": [
    "## Julia is expressive and understandable\n",
    "- In e.g. Python or R, libraries are mostly written in non-native language. [Here is an example with `pytorch`](https://github.com/pytorch/pytorch).\n",
    "\n",
    "<p align=\"center\">\n",
    "  <img src=\"img/pytorch.png\" />\n",
    "</p>\n",
    "\n",
    "- Source code of most Julia libraries is written in **pure Julia**. [Here is an example with Flux.jl](https://github.com/FluxML/Flux.jl), the equivalent of `pytorch` in Julia.\n",
    "\n",
    "\n",
    "<p align=\"center\">\n",
    "  <img src=\"img/flux.png\" />\n",
    "</p>\n"
   ]
  },
  {
   "cell_type": "markdown",
   "metadata": {
    "slideshow": {
     "slide_type": "slide"
    }
   },
   "source": [
    "\n",
    "- This allows to understand exactly what the functions you are using are doing ➡️ this makes you smarter\n",
    "\n",
    "[Here is an example of how is implemented a dense layer in Julia](https://github.com/FluxML/Flux.jl/blob/0038a60e266d0fca17aa8db99cd6453eb633ee7b/src/layers/basic.jl#L170)\n",
    "\n",
    "```julia\n",
    "function (a::Dense)(x::AbstractVecOrMat)\n",
    "  _size_check(a, x, 1 => size(a.weight, 2))\n",
    "  σ = NNlib.fast_act(a.σ, x)  # replaces tanh => tanh_fast, etc\n",
    "  xT = _match_eltype(a, x)  # fixes Float64 input, etc.\n",
    "  return σ.(a.weight * xT .+ a.bias)\n",
    "end\n",
    "```\n",
    "\n",
    "- This allows you to easily contribute and develop to packages ➡️ this makes you more useful in this world\n",
    "\n"
   ]
  },
  {
   "cell_type": "markdown",
   "metadata": {
    "slideshow": {
     "slide_type": "slide"
    }
   },
   "source": [
    "\n",
    "- The language syntax is very close to mathematical symbolics ➡️ benefits **understandability**\n",
    "\n",
    "![](https://github.com/mossr/BeautifulAlgorithms.jl/raw/master/img/png/loss_functions.png)\n",
    "\n",
    "- The language is **emoji friendly**! This is how you would define a Lotka Volterra system in Julia"
   ]
  },
  {
   "cell_type": "code",
   "execution_count": 1,
   "metadata": {
    "slideshow": {
     "slide_type": "fragment"
    }
   },
   "outputs": [
    {
     "data": {
      "text/plain": [
       "lotka_volterra! (generic function with 1 method)"
      ]
     },
     "metadata": {},
     "output_type": "display_data"
    }
   ],
   "source": [
    "function lotka_volterra!(du, u, p, t)\n",
    "    α, β, γ, δ = p\n",
    "    🐰, 🦊 = u\n",
    "    d🐰, d🦊 = du\n",
    "    d🐰 = α * 🐰 - β * 🦊 * 🐰\n",
    "    d🦊 = γ*🐰 * 🦊  - δ * 🦊\n",
    "end"
   ]
  },
  {
   "cell_type": "markdown",
   "metadata": {
    "slideshow": {
     "slide_type": "slide"
    }
   },
   "source": [
    "## Julia is interactive\n",
    "\n",
    "- Amazing IDE with VS code and inline prompts\n",
    "\n",
    "![](https://code.visualstudio.com/assets/docs/languages/julia/overview.png)\n",
    "\n",
    "- Julia code be **developed interactively** on a remote server. More on that later on.\n"
   ]
  },
  {
   "cell_type": "markdown",
   "metadata": {
    "slideshow": {
     "slide_type": "slide"
    }
   },
   "source": [
    "## Execution speed!\n",
    "\n",
    "Here is a benchmark of different tasks performed with commonly used scientific languages.\n",
    "\n",
    "![](https://julialang.org/assets/images/benchmarks.svg)"
   ]
  },
  {
   "cell_type": "markdown",
   "metadata": {
    "slideshow": {
     "slide_type": "subslide"
    }
   },
   "source": [
    "Here is another benchmark where the task consists of solving a differential equation model\n",
    "\n",
    "![](https://docs.sciml.ai/SciMLBenchmarksOutput/stable/MultiLanguage/figures/wrapper_packages_2_1.png)\n",
    "\n",
    "#### Resources\n",
    "- [Julia micro-benchmarks](https://julialang.org/benchmarks/)\n",
    "- [SciML benchmarks](https://docs.sciml.ai/SciMLBenchmarksOutput/stable/MultiLanguage/ode_wrapper_packages/)"
   ]
  },
  {
   "cell_type": "markdown",
   "metadata": {
    "slideshow": {
     "slide_type": "subslide"
    }
   },
   "source": [
    "### Support for parallelism\n",
    "\n",
    "\n",
    "```julia\n",
    "Threads.@threads for i in 1:n\n",
    "    myarray[1] = do_stuff(parameters[i])\n",
    "end\n",
    "```"
   ]
  },
  {
   "cell_type": "markdown",
   "metadata": {
    "slideshow": {
     "slide_type": "slide"
    }
   },
   "source": [
    "## Community well organized\n",
    "\n",
    "There is an active community of users and developers who contribute high-quality packages regularly.\n",
    "\n",
    "- Slack channel\n",
    "- Discourse forum\n",
    "- Youtube tutorials\n",
    "\n",
    "Information available at https://julialang.org/community/"
   ]
  },
  {
   "cell_type": "markdown",
   "metadata": {
    "slideshow": {
     "slide_type": "slide"
    }
   },
   "source": [
    "## Multiple Dispatch\n",
    "\n",
    "Julia's multiple dispatch mechanism allows **functions to be specialized for different types of data**\n",
    "\n",
    "Thanks to multiple dispatch, code can be effortlessly made **generic** but also very **specific** (without thinking of class inheritance etc, as you would do in Python)"
   ]
  },
  {
   "cell_type": "markdown",
   "metadata": {
    "slideshow": {
     "slide_type": "subslide"
    }
   },
   "source": [
    "Multiple dispatch explained to biologists"
   ]
  },
  {
   "cell_type": "code",
   "execution_count": 4,
   "metadata": {
    "slideshow": {
     "slide_type": "fragment"
    }
   },
   "outputs": [
    {
     "data": {
      "text/plain": [
       "aboveground_biomass (generic function with 2 methods)"
      ]
     },
     "metadata": {},
     "output_type": "display_data"
    }
   ],
   "source": [
    "abstract type PlantSpecies end\n",
    "\n",
    "struct Oak <: PlantSpecies\n",
    "    height::Float64\n",
    "    leaf_area::Float64\n",
    "end\n",
    "\n",
    "struct Maple <: PlantSpecies\n",
    "    height::Float64\n",
    "    leaf_area::Float64\n",
    "end\n",
    "\n",
    "function aboveground_biomass(species::Oak)\n",
    "    return 0.0314 * species.height^2.19 * species.leaf_area^0.91\n",
    "end\n",
    "\n",
    "function aboveground_biomass(species::Maple)\n",
    "    return 0.0215 * species.height^2.42 * species.leaf_area^0.94\n",
    "end\n"
   ]
  },
  {
   "cell_type": "markdown",
   "metadata": {
    "slideshow": {
     "slide_type": "subslide"
    }
   },
   "source": [
    "### Interesting use case of multiple dispatch: GPU computing"
   ]
  },
  {
   "cell_type": "markdown",
   "metadata": {
    "slideshow": {
     "slide_type": "subslide"
    }
   },
   "source": [
    "Multiple dispatch can be useful when it comes to GPU computing because it allows for efficient dispatch of functions to the GPU, which can lead to significant performance gains. This is achieved through Julia's `GPUArrays` package, which provides a GPU-backed array type that can be used in place of regular Julia arrays.\n",
    "\n",
    "When a function is called on a `GPUArray`, Julia's multiple dispatch mechanism can determine if a GPU version of the function is available, and if so, dispatch the computation to the GPU. This allows computations to be executed in parallel on the GPU, which can lead to significant performance gains over executing the same computation on the CPU.\n",
    "\n",
    "Here's an example:\n",
    "\n",
    "```julia\n",
    "using CUDA\n",
    "\n",
    "function add_matrices(a::AbstractArray, b::AbstractArray)\n",
    "    return a + b\n",
    "end\n",
    "\n",
    "# generate CPU arrays\n",
    "a = rand(1000, 1000)\n",
    "b = rand(1000, 1000)\n",
    "\n",
    "# call the function on CPU arrays\n",
    "c = add_matrices(a, b)\n",
    "\n",
    "# generate GPU arrays\n",
    "a_gpu = CUDA.rand(1000, 1000)\n",
    "b_gpu = CUDA.rand(1000, 1000)\n",
    "\n",
    "# call the function on GPU arrays\n",
    "c_gpu = add_matrices(a_gpu, b_gpu)\n",
    "\n",
    "```\n",
    "\n",
    "\n",
    "\n",
    "In this example, we define a function `add_matrices` that adds two arrays together. When called with `a_gpu` and `b_gpu`, Julia's multiple dispatch mechanism recognizes that a GPU version of the function is available and dispatches the computation to the GPU.\n",
    "\n",
    "The resulting `c_gpu` array contains the result of the computation, which can be copied back to the CPU using the `Array` function.\n",
    "\n",
    "In summary, multiple dispatch in Julia can be useful when it comes to GPU computing because it allows functions to be specialized for different types of data and to dispatch computations to the GPU when appropriate. This can lead to significant performance gains, especially when working with large arrays."
   ]
  },
  {
   "cell_type": "markdown",
   "metadata": {
    "slideshow": {
     "slide_type": "slide"
    }
   },
   "source": [
    "## Julia integrates well with existing code\n",
    "\n",
    "Calling C, Fortran, Python, and other libraries from  Julia is easy thanks to its first class support for interoperability.\n",
    "\n",
    "More on that later on.\n",
    "\n",
    "![](https://github.com/JuliaInterop/RCall.jl/raw/master/ggplot.png)"
   ]
  },
  {
   "cell_type": "markdown",
   "metadata": {
    "slideshow": {
     "slide_type": "slide"
    }
   },
   "source": [
    "## Composability of libraries and scientific ML\n",
    "### Julia is an automatic differentiation pervasive language [(Innes et al., 2019)](http://arxiv.org/abs/1907.07587)\n",
    "\n",
    "### The [SciML](https://sciml.ai) ecosystem\n",
    "\n",
    "SciML is a composable open source software for scientific machine learning with differentiable programming.\n",
    "   -  Read [this very cool paper](https://arxiv.org/abs/2001.04385) introducing the [SciML software ecosystem]\n",
    "   - [Example using Deep Learning libraries in combination with ODE solvers](ode_solvers_with_DL.jl)\n",
    "\n",
    "```julia\n",
    "function lotka_volterra(u, p, t)\n",
    "    weights_nn, α, δ = p\n",
    "    🐰, 🦊 = u\n",
    "\n",
    "    nn_res = neuralnet(🦊, 🐰, weights_nn)\n",
    "\n",
    "    d🐰 = α * 🐰 - nn_res[1]\n",
    "    d🦊 = nn_res[2]  - δ * 🦊\n",
    "\n",
    "    return [d🐰, d🦊]\n",
    "end\n",
    "```"
   ]
  },
  {
   "cell_type": "markdown",
   "metadata": {
    "slideshow": {
     "slide_type": "slide"
    }
   },
   "source": [
    "### Bayesian inference framework with deep learning\n",
    "\n",
    "[Here is another cool example](https://turinglang.org/v0.24/tutorials/03-bayesian-neural-network/) of composability between [`Turing.jl`](https://turinglang.org/v0.24/) and `Flux.jl`\n",
    "\n",
    "![](https://turinglang.org/v0.24/tutorials/figures/03_bayesian-neural-network_9_1.png)"
   ]
  },
  {
   "cell_type": "markdown",
   "metadata": {
    "slideshow": {
     "slide_type": "slide"
    }
   },
   "source": [
    "## Package management\n",
    "\n",
    "Julia provides a **built-in package** manager called `Pkg` for **managing packages and environments**. Users can create a new environment and add specific packages to it, and each environment has its own set of dependencies. Julia also allows users to switch between different environments easily.\n",
    "\n",
    "<div align=\"center\"><img src=\"https://pkgdocs.julialang.org/v1/assets/logo.png\" width=\"400\"></img> </div>\n",
    "\n",
    "More on that later on!"
   ]
  },
  {
   "cell_type": "markdown",
   "metadata": {
    "slideshow": {
     "slide_type": "slide"
    }
   },
   "source": [
    "## Productivity\n",
    "\n",
    "- Research script can be easily transformed into **packages**, directly available to the community"
   ]
  },
  {
   "cell_type": "markdown",
   "metadata": {
    "slideshow": {
     "slide_type": "slide"
    }
   },
   "source": [
    "## Caveat: trial-and-error development process\n",
    "\n",
    "Julia is still in a trial and development process. You may expect some bugs in the libraries from time to time, or some rapid changes in syntax."
   ]
  },
  {
   "cell_type": "markdown",
   "metadata": {
    "slideshow": {
     "slide_type": "slide"
    }
   },
   "source": [
    "## A few packages that I have developed during my PhD\n",
    "\n",
    "### [EvoId.jl](https://github.com/vboussange/EvoId.jl)\n",
    "Evolutionary Individual based modelling, mathematically grounded. A user friendly package aimed at simulating the evolutionary dynamics of a population structured over a complex spatio-evolutionary structures.\n",
    "\n",
    "<div align=\"center\"><img src=\"https://github.com/vboussange/EvoId.jl/raw/master/docs/src/assets/gif_evoid.gif\" width=\"400\"></img> </div>"
   ]
  },
  {
   "cell_type": "markdown",
   "metadata": {
    "slideshow": {
     "slide_type": "subslide"
    }
   },
   "source": [
    "### [HighDimPDE.jl](https://github.com/SciML/HighDimPDE.jl)\n",
    "Solver for **highly dimensional, non-local, nonlinear PDEs** of the form\n",
    "\n",
    "$$\n",
    "\\begin{aligned}\n",
    "    (\\partial_t u)(t,x) &= \\int_{\\Omega} f\\big(t,x,{\\bf x}, u(t,x),u(t,{\\bf x}), ( \\nabla_x u )(t,x ),( \\nabla_x u )(t,{\\bf x} ) \\big) d{\\bf x} \\\\\n",
    "    & \\quad + \\big\\langle \\mu(t,x), ( \\nabla_x u )( t,x ) \\big\\rangle + \\tfrac{1}{2} \\text{Trace} \\big(\\sigma(t,x) [ \\sigma(t,x) ]^* ( \\text{Hess}_x u)(t, x ) \\big).\n",
    "\\end{aligned}\n",
    "$$\n",
    "\n",
    "where $u \\colon [0,T] \\times \\Omega \\to \\mathbb{R}, \\Omega \\subseteq \\mathbb{R}^{d}$ is subject to initial and boundary conditions, and where $d$ is large.\n",
    "\n",
    "It is now part of the SciML ecosystem."
   ]
  },
  {
   "cell_type": "markdown",
   "metadata": {
    "slideshow": {
     "slide_type": "subslide"
    }
   },
   "source": [
    "### [PiecewiseInference.jl](https://github.com/vboussange/PiecewiseInference.jl)\n",
    "Suite for parameter inference and model selection with dynamical models characterised by complex dynamics.\n",
    "<div align=\"center\"><img src=\"https://github.com/vboussange/PiecewiseInference.jl/raw/main/docs/animated.gif\n",
    "\" width=\"400\"></img> </div>"
   ]
  },
  {
   "cell_type": "markdown",
   "metadata": {
    "slideshow": {
     "slide_type": "subslide"
    }
   },
   "source": [
    "### [ParametricModels.jl](https://github.com/vboussange/ParametricModels.jl)\n",
    "Utilities for parametric and composite differential equation models."
   ]
  },
  {
   "cell_type": "markdown",
   "metadata": {
    "slideshow": {
     "slide_type": "subslide"
    }
   },
   "source": [
    "### [EcoEvoModelZoo.jl](https://github.com/vboussange/EcoEvoModelZoo.jl)\n",
    "A zoo of eco-evolutionary models with high fitness.\n",
    "\n",
    "<div align=\"center\"><img src=\"https://github.com/vboussange/EcoEvoModelZoo.jl/raw/main/docs/src/time_series_5_species_ecosyste_model.png\" width=\"800\"></img> </div>"
   ]
  },
  {
   "cell_type": "markdown",
   "metadata": {
    "slideshow": {
     "slide_type": "slide"
    }
   },
   "source": [
    "## Acknowledgements\n",
    "- This has been partly inspired from [juliazoid blog post](https://juliazoid.com/10-simple-reasons-to-learn-the-julia-programming-language-in-2023-453a4dafab32)"
   ]
  }
 ],
 "metadata": {
  "celltoolbar": "Slideshow",
  "kernelspec": {
   "display_name": "Julia 1.8.5",
   "language": "julia",
   "name": "julia-1.8"
  },
  "language_info": {
   "file_extension": ".jl",
   "mimetype": "application/julia",
   "name": "julia",
   "version": "1.8.5"
  }
 },
 "nbformat": 4,
 "nbformat_minor": 2
}
