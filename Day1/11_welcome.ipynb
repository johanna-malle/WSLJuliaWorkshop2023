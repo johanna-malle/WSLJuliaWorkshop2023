{
 "cells": [
  {
   "cell_type": "markdown",
   "id": "9ddf257b",
   "metadata": {
    "slideshow": {
     "slide_type": "slide"
    }
   },
   "source": [
    "Warm greetings to the 2023 Julia Workshop\n",
    "# Practical introduction to Julia for modelling and data analysis in biodiversity and earth sciences"
   ]
  },
  {
   "cell_type": "markdown",
   "id": "ed1677c3",
   "metadata": {
    "slideshow": {
     "slide_type": "fragment"
    }
   },
   "source": [
    "We're excited to have you all here today and next Monday to learn more about the Julia programming language and how it can leverage biodiversity and glaciology research."
   ]
  },
  {
   "cell_type": "markdown",
   "id": "66e9c2de",
   "metadata": {
    "slideshow": {
     "slide_type": "fragment"
    }
   },
   "source": [
    "This workshop is supported by the Biodiversity center, so many thanks to them and to Nadia Izaguirre who helped all along with the logistics."
   ]
  },
  {
   "cell_type": "markdown",
   "id": "c6800b64",
   "metadata": {
    "slideshow": {
     "slide_type": "slide"
    }
   },
   "source": [
    "## In brief: who are we?\n",
    "\n",
    "Julia enthusiasts, who want to spread our experience!\n",
    "\n",
    "|Mauro (@mauro3)| Victor (@vboussange)|\n",
    "|-|-|\n",
    "|Glaciology @ WSL and ETHZ | |\n",
    "http://maurow.bitbucket.io/|https://vboussange.github.io\n",
    "![](https://maurow.bitbucket.io/img/werder.jpg)|<div><img src=\"https://vboussange.github.io/authors/admin/avatar_hue95c9cac2955bb5fc8cb56628af3154e_174591_270x270_fill_q75_lanczos_center.jpg\" width=\"200\"/></div>\n",
    "Glacier hydraulics <br /> Subglacial sediment transport <br /> Bayesian inversions <br /> Laboratory experiments|Ecology and evolution <br /> Mathematical modeling <br /> Scientific machine learning <br /> Complex systems\n",
    "Coding with Julia since v0.2 (2013) | 4 years of coding with Julia, started with v1.0"
   ]
  },
  {
   "cell_type": "markdown",
   "id": "850cbaf1",
   "metadata": {
    "slideshow": {
     "slide_type": "slide"
    }
   },
   "source": [
    "## Objectives"
   ]
  },
  {
   "cell_type": "markdown",
   "id": "46765527",
   "metadata": {
    "slideshow": {
     "slide_type": "fragment"
    }
   },
   "source": [
    "The goal of this workshop is to provide you with a hands-on learning experience and the opportunity to deepen your knowledge of Julia. Over the course of these two days, we'll cover topics ranging from basic syntax and data types to geospatial data handling, parallel computing, and project-oriented sessions.\n",
    "\n",
    "We will cover basic and more advanced topics. Do not worry if you do not get all of it - that's OK!"
   ]
  },
  {
   "cell_type": "markdown",
   "id": "fe8a7d03",
   "metadata": {
    "slideshow": {
     "slide_type": "slide"
    }
   },
   "source": [
    "# Planning"
   ]
  },
  {
   "cell_type": "markdown",
   "id": "983db0a2",
   "metadata": {
    "slideshow": {
     "slide_type": "fragment"
    }
   },
   "source": [
    "### Today\n",
    "\n",
    "To learn about Julia and its ecosystem, we will have:\n",
    "- talks\n",
    "- interactive sessions\n",
    "- exercises\n",
    "\n",
    "Coffee breaks in the morning and afternoon\n",
    "\n",
    "Lunch break 12:20 - 13:30\n",
    "\n",
    "Apero ~ 17:00"
   ]
  },
  {
   "cell_type": "markdown",
   "id": "5e9334b6",
   "metadata": {
    "slideshow": {
     "slide_type": "slide"
    }
   },
   "source": [
    "### Monday\n",
    "\n",
    "- talks\n",
    "- project work in teams\n",
    "  - set projects in biodiversity and glaciology\n",
    "  - it maybe possible to work on a project set by yourself, bring it along\n",
    "\n",
    "Start 9:00\n",
    "\n",
    "Coffee breaks in the morning and afternoon\n",
    "\n",
    "Lunch break 12:20 - 13:30\n",
    "\n",
    "Finish around 17:00"
   ]
  },
  {
   "cell_type": "markdown",
   "id": "0af4ad12",
   "metadata": {
    "slideshow": {
     "slide_type": "slide"
    }
   },
   "source": [
    "# Let's get started\n",
    "\n",
    "- ask questions\n",
    "- collaborate with others\n",
    "- get your hands dirty"
   ]
  },
  {
   "cell_type": "markdown",
   "id": "2b6d8025",
   "metadata": {
    "slideshow": {
     "slide_type": "fragment"
    }
   },
   "source": [
    "So without further ado, let's get started with our first session: an overview of the Julia programming language. Thank you all for joining us, and let's get started!"
   ]
  }
 ],
 "metadata": {
  "celltoolbar": "Slideshow",
  "kernelspec": {
   "display_name": "Julia 1.8.3",
   "language": "julia",
   "name": "julia-1.8"
  },
  "language_info": {
   "file_extension": ".jl",
   "mimetype": "application/julia",
   "name": "julia",
   "version": "1.8.3"
  }
 },
 "nbformat": 4,
 "nbformat_minor": 5
}
