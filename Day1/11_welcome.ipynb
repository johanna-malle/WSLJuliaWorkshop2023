{
 "cells": [
  {
   "attachments": {},
   "cell_type": "markdown",
   "id": "9ddf257b",
   "metadata": {
    "slideshow": {
     "slide_type": "slide"
    }
   },
   "source": [
    "Warm greetings to the 2023 Julia Workshop\n",
    "# Practical introduction to Julia for modelling and data analysis in biodiversity and earth sciences"
   ]
  },
  {
   "attachments": {},
   "cell_type": "markdown",
   "id": "ed1677c3",
   "metadata": {},
   "source": [
    "We're excited to have you all here today and next Monday to learn more about the Julia programming language and how it can leverage biodiversity and glaciology research."
   ]
  },
  {
   "attachments": {},
   "cell_type": "markdown",
   "id": "66e9c2de",
   "metadata": {},
   "source": [
    "This workshop is supported by the Biodiversity center, so many thanks to them and to Nadia Izaguirre who helped all along with the logistics."
   ]
  },
  {
   "attachments": {},
   "cell_type": "markdown",
   "id": "c6800b64",
   "metadata": {},
   "source": [
    "## In brief: who are we?\n",
    "\n",
    "Julia enthusiasts, who want to spread our experience!\n",
    "\n",
    "|Mauro (@mauro3)| Victor (@vboussange)|\n",
    "|-|-|\n",
    "http://maurow.bitbucket.io/|https://vboussange.github.io\n",
    "![](https://maurow.bitbucket.io/img/werder.jpg)|<div><img src=\"https://vboussange.github.io/authors/admin/avatar_hue95c9cac2955bb5fc8cb56628af3154e_174591_270x270_fill_q75_lanczos_center.jpg\" width=\"200\"/></div>\n",
    "Glacier hydraulics <br /> Subglacial sediment transport <br /> Bayesian inversions <br /> Laboratory experiments|Ecology and evolution <br /> Mathematical modeling <br /> Scientific machine learning <br /> Complex systems\n",
    "Coding with Julia since v0.1.0 | 4 years of coding with Julia, started with v1.0"
   ]
  },
  {
   "attachments": {},
   "cell_type": "markdown",
   "id": "850cbaf1",
   "metadata": {},
   "source": [
    "## Objectives"
   ]
  },
  {
   "attachments": {},
   "cell_type": "markdown",
   "id": "46765527",
   "metadata": {},
   "source": [
    "The goal of this workshop is to provide you with a hands-on learning experience and the opportunity to deepen your knowledge of Julia. Over the course of these two days, we'll cover topics ranging from basic syntax and data types to geospatial data handling, parallel computing, and project-oriented sessions.\n",
    "\n",
    "We will cover basic and more advanced topics. Do not worry if you do not get all of it - that's OK!"
   ]
  },
  {
   "attachments": {},
   "cell_type": "markdown",
   "id": "fe8a7d03",
   "metadata": {},
   "source": [
    "## Planning"
   ]
  },
  {
   "attachments": {},
   "cell_type": "markdown",
   "id": "983db0a2",
   "metadata": {},
   "source": [
    "Today's schedule will include a series of talks and interactive sessions aimed at introducing you to the Julia programming language and its ecosystem, as well as providing you with practical guidelines and exercises to help you get started with Julia. We'll also have a coffee break in the morning and afternoon, as well as a lunch break in between the morning and afternoon sessions."
   ]
  },
  {
   "attachments": {},
   "cell_type": "markdown",
   "id": "5e9334b6",
   "metadata": {},
   "source": [
    "Next monday will be project-oriented, where you'll have the opportunity to work on biodiversity and glaciology-related projects. You'll have the chance to work in teams, and we'll provide you with guidance and support throughout the day."
   ]
  },
  {
   "attachments": {},
   "cell_type": "markdown",
   "id": "0af4ad12",
   "metadata": {},
   "source": [
    "We hope that you'll find this workshop informative and engaging. We encourage you to ask questions, collaborate with your fellow participants, and engage with the material in a hands-on way."
   ]
  },
  {
   "attachments": {},
   "cell_type": "markdown",
   "id": "2b6d8025",
   "metadata": {},
   "source": [
    "So without further ado, let's get started with our first session: an overview of the Julia programming language. Thank you all for joining us, and let's get started!"
   ]
  }
 ],
 "metadata": {
  "kernelspec": {
   "display_name": "Julia 1.8.5",
   "language": "julia",
   "name": "julia-1.8"
  },
  "language_info": {
   "file_extension": ".jl",
   "mimetype": "application/julia",
   "name": "julia",
   "version": "1.8.5"
  }
 },
 "nbformat": 4,
 "nbformat_minor": 5
}
