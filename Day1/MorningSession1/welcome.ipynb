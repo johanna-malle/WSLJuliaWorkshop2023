{
 "cells": [
  {
   "attachments": {},
   "cell_type": "markdown",
   "id": "9ddf257b",
   "metadata": {
    "slideshow": {
     "slide_type": "slide"
    }
   },
   "source": [
    "Warm greetings to the 2023 Julia Worksho\n",
    "# Practical introduction to Julia for modelling and data analysis in biodiversity and earth sciences"
   ]
  },
  {
   "attachments": {},
   "cell_type": "markdown",
   "id": "ab082b8b",
   "metadata": {},
   "source": [
    "Lead by Victor Boussange and Mauro Werder"
   ]
  },
  {
   "cell_type": "code",
   "execution_count": 1,
   "id": "277ced0a",
   "metadata": {
    "slideshow": {
     "slide_type": "slide"
    }
   },
   "outputs": [
    {
     "name": "stdout",
     "output_type": "stream",
     "text": [
      "Hello world\n"
     ]
    }
   ],
   "source": [
    "println(\"Hello world\")"
   ]
  },
  {
   "cell_type": "code",
   "execution_count": 2,
   "id": "19060f7c",
   "metadata": {},
   "outputs": [],
   "source": []
  }
 ],
 "metadata": {
  "kernelspec": {
   "display_name": "Julia 1.8.5",
   "language": "julia",
   "name": "julia-1.8"
  },
  "language_info": {
   "file_extension": ".jl",
   "mimetype": "application/julia",
   "name": "julia",
   "version": "1.8.5"
  }
 },
 "nbformat": 4,
 "nbformat_minor": 5
}
