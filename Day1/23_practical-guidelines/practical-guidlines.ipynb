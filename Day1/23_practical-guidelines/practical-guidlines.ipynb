{
 "cells": [
  {
   "cell_type": "markdown",
   "metadata": {
    "slideshow": {
     "slide_type": "slide"
    }
   },
   "source": [
    "# A practical guideline on how to work with Julia \n",
    "by Victor Boussange"
   ]
  },
  {
   "cell_type": "markdown",
   "metadata": {
    "slideshow": {
     "slide_type": "subslide"
    }
   },
   "source": [
    "This session is about providing you with a nice workflow to get started with a Julia project.\n"
   ]
  },
  {
   "cell_type": "markdown",
   "metadata": {
    "slideshow": {
     "slide_type": "slide"
    }
   },
   "source": [
    "## Folder structure\n",
    "\n",
    "My typical research project in julia looks like that\n",
    "- `src/`: directory contains **source code** that you may reuse in different scripts.\n",
    "- `tests/`: directory that contains **unit tests** for the source code in `src`\n",
    "- `data/`: directory storing any **data files** that your project uses\n",
    "- `results/`: directory where **outputs** of your scripts are stored, such as plots, tables, or other artifacts that you've generated.\n",
    "- The dependencies files\n",
    "  - `Manifest.toml`\n",
    "  - `Project.toml`\n",
    "- `.gitignore`: specifies **which files and directories should be ignored by version control**.\n",
    "- `run_code.sh`: shell script that you can use to run your julia scripts.\n",
    "- `my-experiment_xxx.jl`: scripts for your experiemts\n"
   ]
  },
  {
   "cell_type": "markdown",
   "metadata": {
    "slideshow": {
     "slide_type": "slide"
    }
   },
   "source": [
    "\n",
    "### My way of launching a script\n",
    "I like using a shell script to run my Julia scripts. Here is what this script could look like\n",
    "\n",
    "```sh\n",
    "#!/bin/bash\n",
    "date\n",
    "echo \"lauching script\"\n",
    "julia --project=. --threads 1 my-analysis.jl &> \"stdout/my-analysis.out\"\n",
    "wait\n",
    "echo \"computation over\"\n",
    "date\n",
    "```\n"
   ]
  },
  {
   "cell_type": "markdown",
   "metadata": {
    "slideshow": {
     "slide_type": "subslide"
    }
   },
   "source": [
    "\n",
    "If this script is in a file called `run_my_analysis.sh`, you first need to make the file executable\n",
    "\n",
    "```\n",
    "chmod u+x run_my_analysis.sh\n",
    "```\n"
   ]
  },
  {
   "cell_type": "markdown",
   "metadata": {
    "slideshow": {
     "slide_type": "subslide"
    }
   },
   "source": [
    "\n",
    "Once this is done, just run\n",
    "```\n",
    "./run_my_analysis.sh\n",
    "```\n",
    "\n",
    "And you'll get as output\n",
    "```\n",
    "Thu Mar 23 22:45:18 CET 2023\n",
    "lauching script\n",
    "computation over\n",
    "Thu Mar 23 22:45:30 CET 2023\n",
    "```"
   ]
  },
  {
   "cell_type": "markdown",
   "metadata": {
    "slideshow": {
     "slide_type": "slide"
    }
   },
   "source": [
    "## VS Code workflow\n",
    "- `cmd + alt + p`: opens the command palette\n",
    "- select the julia environment (blue bottom left corner)\n",
    "\n",
    "![](https://www.julia-vscode.org/docs/dev/images/env-select.png)"
   ]
  },
  {
   "cell_type": "markdown",
   "metadata": {
    "slideshow": {
     "slide_type": "subslide"
    }
   },
   "source": [
    "\n",
    "- open a julia terminal (`cmd + shift + p` opens the command palette, then type julia and click \"Open Julia REPL\")\n",
    "- `shift + enter`: execute the line where the cursor is placed\n",
    "- `julia>?` ask for the documentation of a certain function\n",
    "- checkout the git panel\n",
    "- `ctrl + c`: interrupt execution\n",
    "- `ctrl + d`: quit Julia\n",
    "- `cmd + click on a function`: goes to the function definition\n",
    "- format the code\n",
    "In order to format your code press `shift + cmd`|`windows + p` to bring up the command palette and search for `Format Document`\n",
    "\n",
    "![](https://www.julia-vscode.org/docs/dev/images/format.png)"
   ]
  },
  {
   "cell_type": "markdown",
   "metadata": {
    "slideshow": {
     "slide_type": "subslide"
    }
   },
   "source": [
    "\n",
    "- There is a cool table viewer\n",
    "\n",
    "![](https://www.julia-vscode.org/docs/dev/images/table.png)"
   ]
  },
  {
   "cell_type": "markdown",
   "metadata": {
    "slideshow": {
     "slide_type": "slide"
    }
   },
   "source": [
    "\n",
    "## How to run a julia file on a remote server\n",
    "\n",
    "Remote development allows developers to **directly use remote servers during the development process**, instead of first developing on their local machines with limited computing resources and then modify the script so that it can run on the remote server. \n",
    "\n",
    "![](https://code.visualstudio.com/assets/docs/remote/ssh/architecture-ssh.png)\n",
    "\n",
    "This also means that the local machine does not have to meet the requirements for running the development environment or storing large amounts of data."
   ]
  },
  {
   "cell_type": "markdown",
   "metadata": {
    "slideshow": {
     "slide_type": "subslide"
    }
   },
   "source": [
    "\n",
    "### Remote Development using SSH\n",
    "The Visual Studio Code **Remote - SSH** extension allows you to open a remote folder on any remote machine, virtual machine, or container with a running SSH server and take full advantage of VS Code's feature set. Once connected to a server, you can interact with files and folders anywhere on the remote filesystem.\n",
    "\n",
    "No source code needs to be on your local machine to gain these benefits since the extension runs commands and other extensions directly on the remote machine.\n",
    "\n",
    "![](https://www.julia-vscode.org/docs/dev/images/remote/remote_extensions.png)"
   ]
  },
  {
   "cell_type": "markdown",
   "metadata": {
    "slideshow": {
     "slide_type": "slide"
    }
   },
   "source": [
    "\n",
    "#### More detailed resources\n",
    "\n",
    "- [Here are guidelines to proceed](https://code.visualstudio.com/docs/remote/ssh)\n",
    "Install the Remote-SSH extension. If you plan to work with other remote extensions in VS Code, you may choose to install the Remote Development extension pack.\n",
    "\n",
    "- [Some other guidelines specific to Julia development](https://www.julia-vscode.org/docs/dev/userguide/remote/)"
   ]
  },
  {
   "cell_type": "markdown",
   "metadata": {
    "slideshow": {
     "slide_type": "slide"
    }
   },
   "source": [
    "\n",
    "### Live demonstration \n",
    "\n",
    "Wait for it.\n"
   ]
  },
  {
   "cell_type": "markdown",
   "metadata": {
    "slideshow": {
     "slide_type": "slide"
    }
   },
   "source": [
    "\n",
    "## Acknowledgement and resources\n",
    "- [Pkg.jl documentation](https://pkgdocs.julialang.org/v1/toml-files/)\n",
    "- [How to set up a development environment, outside the global (default) environment, together with nice tricks for your `sartup.jl`](https://davidamos.dev/five-minutes-to-julia/)"
   ]
  }
 ],
 "metadata": {
  "celltoolbar": "Slideshow",
  "kernelspec": {
   "display_name": "Python 3",
   "language": "python",
   "name": "python3"
  },
  "language_info": {
   "codemirror_mode": {
    "name": "ipython",
    "version": 3
   },
   "file_extension": ".py",
   "mimetype": "text/x-python",
   "name": "python",
   "nbconvert_exporter": "python",
   "pygments_lexer": "ipython3",
   "version": "3.7.10"
  }
 },
 "nbformat": 4,
 "nbformat_minor": 2
}
