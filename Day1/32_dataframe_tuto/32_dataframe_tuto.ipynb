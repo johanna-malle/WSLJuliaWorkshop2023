{
  "cells": [
    {
      "attachments": {},
      "cell_type": "markdown",
      "metadata": {},
      "source": [
        "## DataFrames and broadcasting in Julia\n",
        "\n",
        "In Julia, arrays are the fundamental way to store and manipulate collections of data. Julia supports arrays of any dimension and can be used to store various types of data such as integers, floating-point numbers, and strings. In addition to arrays, Julia has a package called DataFrames.jl, which provides a tabular data structure that is similar to a spreadsheet or database table.\n"
      ]
    },
    {
      "attachments": {},
      "cell_type": "markdown",
      "metadata": {},
      "source": [
        "## Dataframes"
      ]
    },
    {
      "attachments": {},
      "cell_type": "markdown",
      "metadata": {},
      "source": [
        "DataFrames in Julia are similar to spreadsheets or database tables. DataFrames are stored in a tabular format with rows and columns. The first row of the DataFrame contains the column names, and each subsequent row contains the data. Here is an example of creating a DataFrame in Julia:"
      ]
    },
    {
      "cell_type": "code",
      "execution_count": 46,
      "metadata": {
        "tags": [
          "hide-input"
        ]
      },
      "outputs": [
        {
          "name": "stderr",
          "output_type": "stream",
          "text": [
            "\u001b[32m\u001b[1m  Activating\u001b[22m\u001b[39m project at `~/ETHZ/PostDoc_ELE/teaching/WSL_workshop_Julia/material/Day1/32_dataframe_tuto`\n"
          ]
        }
      ],
      "source": [
        "cd(@__DIR__)\n",
        "using Pkg; Pkg.activate(\".\");"
      ]
    },
    {
      "attachments": {},
      "cell_type": "markdown",
      "metadata": {},
      "source": [
        "### Constructing `DataFrame`s"
      ]
    },
    {
      "cell_type": "code",
      "execution_count": 47,
      "metadata": {},
      "outputs": [
        {
          "data": {
            "text/html": [
              "<div><div style = \"float: left;\"><span>6×5 DataFrame</span></div><div style = \"clear: both;\"></div></div><div class = \"data-frame\" style = \"overflow-x: scroll;\"><table class = \"data-frame\" style = \"margin-bottom: 6px;\"><thead><tr class = \"header\"><th class = \"rowNumber\" style = \"font-weight: bold; text-align: right;\">Row</th><th style = \"text-align: left;\">grp</th><th style = \"text-align: left;\">x</th><th style = \"text-align: left;\">y</th><th style = \"text-align: left;\">z</th><th style = \"text-align: left;\">id</th></tr><tr class = \"subheader headerLastRow\"><th class = \"rowNumber\" style = \"font-weight: bold; text-align: right;\"></th><th title = \"Int64\" style = \"text-align: left;\">Int64</th><th title = \"Int64\" style = \"text-align: left;\">Int64</th><th title = \"Int64\" style = \"text-align: left;\">Int64</th><th title = \"Union{Missing, Int64}\" style = \"text-align: left;\">Int64?</th><th title = \"Char\" style = \"text-align: left;\">Char</th></tr></thead><tbody><tr><td class = \"rowNumber\" style = \"font-weight: bold; text-align: right;\">1</td><td style = \"text-align: right;\">1</td><td style = \"text-align: right;\">6</td><td style = \"text-align: right;\">4</td><td style = \"text-align: right;\">3</td><td style = \"text-align: left;\">a</td></tr><tr><td class = \"rowNumber\" style = \"font-weight: bold; text-align: right;\">2</td><td style = \"text-align: right;\">2</td><td style = \"text-align: right;\">5</td><td style = \"text-align: right;\">5</td><td style = \"text-align: right;\">4</td><td style = \"text-align: left;\">b</td></tr><tr><td class = \"rowNumber\" style = \"font-weight: bold; text-align: right;\">3</td><td style = \"text-align: right;\">1</td><td style = \"text-align: right;\">4</td><td style = \"text-align: right;\">6</td><td style = \"text-align: right;\">5</td><td style = \"text-align: left;\">c</td></tr><tr><td class = \"rowNumber\" style = \"font-weight: bold; text-align: right;\">4</td><td style = \"text-align: right;\">2</td><td style = \"text-align: right;\">3</td><td style = \"text-align: right;\">7</td><td style = \"text-align: right;\">6</td><td style = \"text-align: left;\">d</td></tr><tr><td class = \"rowNumber\" style = \"font-weight: bold; text-align: right;\">5</td><td style = \"text-align: right;\">1</td><td style = \"text-align: right;\">2</td><td style = \"text-align: right;\">8</td><td style = \"text-align: right;\">7</td><td style = \"text-align: left;\">e</td></tr><tr><td class = \"rowNumber\" style = \"font-weight: bold; text-align: right;\">6</td><td style = \"text-align: right;\">2</td><td style = \"text-align: right;\">1</td><td style = \"text-align: right;\">9</td><td style = \"font-style: italic; text-align: right;\">missing</td><td style = \"text-align: left;\">f</td></tr></tbody></table></div>"
            ],
            "text/latex": [
              "\\begin{tabular}{r|ccccc}\n",
              "\t& grp & x & y & z & id\\\\\n",
              "\t\\hline\n",
              "\t& Int64 & Int64 & Int64 & Int64? & Char\\\\\n",
              "\t\\hline\n",
              "\t1 & 1 & 6 & 4 & 3 & a \\\\\n",
              "\t2 & 2 & 5 & 5 & 4 & b \\\\\n",
              "\t3 & 1 & 4 & 6 & 5 & c \\\\\n",
              "\t4 & 2 & 3 & 7 & 6 & d \\\\\n",
              "\t5 & 1 & 2 & 8 & 7 & e \\\\\n",
              "\t6 & 2 & 1 & 9 & \\emph{missing} & f \\\\\n",
              "\\end{tabular}\n"
            ],
            "text/plain": [
              "\u001b[1m6×5 DataFrame\u001b[0m\n",
              "\u001b[1m Row \u001b[0m│\u001b[1m grp   \u001b[0m\u001b[1m x     \u001b[0m\u001b[1m y     \u001b[0m\u001b[1m z       \u001b[0m\u001b[1m id   \u001b[0m\n",
              "     │\u001b[90m Int64 \u001b[0m\u001b[90m Int64 \u001b[0m\u001b[90m Int64 \u001b[0m\u001b[90m Int64?  \u001b[0m\u001b[90m Char \u001b[0m\n",
              "─────┼────────────────────────────────────\n",
              "   1 │     1      6      4        3  a\n",
              "   2 │     2      5      5        4  b\n",
              "   3 │     1      4      6        5  c\n",
              "   4 │     2      3      7        6  d\n",
              "   5 │     1      2      8        7  e\n",
              "   6 │     2      1      9 \u001b[90m missing \u001b[0m f"
            ]
          },
          "metadata": {},
          "output_type": "display_data"
        }
      ],
      "source": [
        "using DataFrames\n",
        "using Statistics\n",
        "\n",
        "df = DataFrame(grp=repeat(1:2, 3), x=6:-1:1, y=4:9, z=[3:7; missing], id='a':'f')"
      ]
    },
    {
      "cell_type": "code",
      "execution_count": 48,
      "metadata": {},
      "outputs": [
        {
          "data": {
            "text/html": [
              "<div><div style = \"float: left;\"><span>2×2 DataFrame</span></div><div style = \"clear: both;\"></div></div><div class = \"data-frame\" style = \"overflow-x: scroll;\"><table class = \"data-frame\" style = \"margin-bottom: 6px;\"><thead><tr class = \"header\"><th class = \"rowNumber\" style = \"font-weight: bold; text-align: right;\">Row</th><th style = \"text-align: left;\">grp</th><th style = \"text-align: left;\">w</th></tr><tr class = \"subheader headerLastRow\"><th class = \"rowNumber\" style = \"font-weight: bold; text-align: right;\"></th><th title = \"Int64\" style = \"text-align: left;\">Int64</th><th title = \"Int64\" style = \"text-align: left;\">Int64</th></tr></thead><tbody><tr><td class = \"rowNumber\" style = \"font-weight: bold; text-align: right;\">1</td><td style = \"text-align: right;\">1</td><td style = \"text-align: right;\">10</td></tr><tr><td class = \"rowNumber\" style = \"font-weight: bold; text-align: right;\">2</td><td style = \"text-align: right;\">3</td><td style = \"text-align: right;\">11</td></tr></tbody></table></div>"
            ],
            "text/latex": [
              "\\begin{tabular}{r|cc}\n",
              "\t& grp & w\\\\\n",
              "\t\\hline\n",
              "\t& Int64 & Int64\\\\\n",
              "\t\\hline\n",
              "\t1 & 1 & 10 \\\\\n",
              "\t2 & 3 & 11 \\\\\n",
              "\\end{tabular}\n"
            ],
            "text/plain": [
              "\u001b[1m2×2 DataFrame\u001b[0m\n",
              "\u001b[1m Row \u001b[0m│\u001b[1m grp   \u001b[0m\u001b[1m w     \u001b[0m\n",
              "     │\u001b[90m Int64 \u001b[0m\u001b[90m Int64 \u001b[0m\n",
              "─────┼──────────────\n",
              "   1 │     1     10\n",
              "   2 │     3     11"
            ]
          },
          "metadata": {},
          "output_type": "display_data"
        }
      ],
      "source": [
        "df2 = DataFrame(grp=[1, 3], w=[10, 11])"
      ]
    },
    {
      "cell_type": "code",
      "execution_count": 49,
      "metadata": {},
      "outputs": [
        {
          "data": {
            "text/plain": [
              "5-element Vector{String}:\n",
              " \"grp\"\n",
              " \"x\"\n",
              " \"y\"\n",
              " \"z\"\n",
              " \"id\""
            ]
          },
          "metadata": {},
          "output_type": "display_data"
        }
      ],
      "source": [
        "names(df)"
      ]
    },
    {
      "attachments": {},
      "cell_type": "markdown",
      "metadata": {},
      "source": [
        "Constructing Row by Row"
      ]
    },
    {
      "cell_type": "code",
      "execution_count": 50,
      "metadata": {},
      "outputs": [
        {
          "ename": "DimensionMismatch",
          "evalue": "DimensionMismatch: Length of `row` does not match `DataFrame` column count.",
          "output_type": "error",
          "traceback": [
            "DimensionMismatch: Length of `row` does not match `DataFrame` column count.\n",
            "\n",
            "Stacktrace:\n",
            " [1] _row_inserter!(df::DataFrame, loc::Int64, row::Tuple{Int64, String}, mode::Val{:push}, promote::Bool)\n",
            "   @ DataFrames ~/.julia/packages/DataFrames/LteEl/src/dataframe/insertion.jl:651\n",
            " [2] #push!#342\n",
            "   @ ~/.julia/packages/DataFrames/LteEl/src/dataframe/insertion.jl:455 [inlined]\n",
            " [3] push!(df::DataFrame, row::Tuple{Int64, String})\n",
            "   @ DataFrames ~/.julia/packages/DataFrames/LteEl/src/dataframe/insertion.jl:455\n",
            " [4] top-level scope\n",
            "   @ ~/ETHZ/PostDoc_ELE/teaching/WSL_workshop_Julia/material/Day1/32_dataframe_tuto/32_dataframe_tuto.ipynb:2"
          ]
        }
      ],
      "source": [
        "df3 = DataFrame(A=Int[], B=String[])\n",
        "push!(df, (1, \"M\"))"
      ]
    },
    {
      "attachments": {},
      "cell_type": "markdown",
      "metadata": {},
      "source": [
        "### Accessing data"
      ]
    },
    {
      "attachments": {},
      "cell_type": "markdown",
      "metadata": {},
      "source": [
        "Cell indexing by location"
      ]
    },
    {
      "cell_type": "code",
      "execution_count": 51,
      "metadata": {},
      "outputs": [
        {
          "data": {
            "text/plain": [
              "5"
            ]
          },
          "metadata": {},
          "output_type": "display_data"
        }
      ],
      "source": [
        "df[2, 2]"
      ]
    },
    {
      "cell_type": "markdown",
      "metadata": {},
      "source": [
        "Row slicing by location"
      ]
    },
    {
      "cell_type": "code",
      "execution_count": 52,
      "metadata": {},
      "outputs": [
        {
          "data": {
            "text/html": [
              "<div><div style = \"float: left;\"><span>2×5 DataFrame</span></div><div style = \"clear: both;\"></div></div><div class = \"data-frame\" style = \"overflow-x: scroll;\"><table class = \"data-frame\" style = \"margin-bottom: 6px;\"><thead><tr class = \"header\"><th class = \"rowNumber\" style = \"font-weight: bold; text-align: right;\">Row</th><th style = \"text-align: left;\">grp</th><th style = \"text-align: left;\">x</th><th style = \"text-align: left;\">y</th><th style = \"text-align: left;\">z</th><th style = \"text-align: left;\">id</th></tr><tr class = \"subheader headerLastRow\"><th class = \"rowNumber\" style = \"font-weight: bold; text-align: right;\"></th><th title = \"Int64\" style = \"text-align: left;\">Int64</th><th title = \"Int64\" style = \"text-align: left;\">Int64</th><th title = \"Int64\" style = \"text-align: left;\">Int64</th><th title = \"Union{Missing, Int64}\" style = \"text-align: left;\">Int64?</th><th title = \"Char\" style = \"text-align: left;\">Char</th></tr></thead><tbody><tr><td class = \"rowNumber\" style = \"font-weight: bold; text-align: right;\">1</td><td style = \"text-align: right;\">2</td><td style = \"text-align: right;\">5</td><td style = \"text-align: right;\">5</td><td style = \"text-align: right;\">4</td><td style = \"text-align: left;\">b</td></tr><tr><td class = \"rowNumber\" style = \"font-weight: bold; text-align: right;\">2</td><td style = \"text-align: right;\">1</td><td style = \"text-align: right;\">4</td><td style = \"text-align: right;\">6</td><td style = \"text-align: right;\">5</td><td style = \"text-align: left;\">c</td></tr></tbody></table></div>"
            ],
            "text/latex": [
              "\\begin{tabular}{r|ccccc}\n",
              "\t& grp & x & y & z & id\\\\\n",
              "\t\\hline\n",
              "\t& Int64 & Int64 & Int64 & Int64? & Char\\\\\n",
              "\t\\hline\n",
              "\t1 & 2 & 5 & 5 & 4 & b \\\\\n",
              "\t2 & 1 & 4 & 6 & 5 & c \\\\\n",
              "\\end{tabular}\n"
            ],
            "text/plain": [
              "\u001b[1m2×5 DataFrame\u001b[0m\n",
              "\u001b[1m Row \u001b[0m│\u001b[1m grp   \u001b[0m\u001b[1m x     \u001b[0m\u001b[1m y     \u001b[0m\u001b[1m z      \u001b[0m\u001b[1m id   \u001b[0m\n",
              "     │\u001b[90m Int64 \u001b[0m\u001b[90m Int64 \u001b[0m\u001b[90m Int64 \u001b[0m\u001b[90m Int64? \u001b[0m\u001b[90m Char \u001b[0m\n",
              "─────┼───────────────────────────────────\n",
              "   1 │     2      5      5       4  b\n",
              "   2 │     1      4      6       5  c"
            ]
          },
          "metadata": {},
          "output_type": "display_data"
        }
      ],
      "source": [
        "df[2:3, :]"
      ]
    },
    {
      "attachments": {},
      "cell_type": "markdown",
      "metadata": {},
      "source": [
        "Column indexing"
      ]
    },
    {
      "cell_type": "code",
      "execution_count": 53,
      "metadata": {},
      "outputs": [
        {
          "data": {
            "text/plain": [
              "6-element Vector{Int64}:\n",
              " 6\n",
              " 5\n",
              " 4\n",
              " 3\n",
              " 2\n",
              " 1"
            ]
          },
          "metadata": {},
          "output_type": "display_data"
        }
      ],
      "source": [
        "df[:, :x]"
      ]
    },
    {
      "cell_type": "code",
      "execution_count": 54,
      "metadata": {},
      "outputs": [
        {
          "data": {
            "text/plain": [
              "6-element Vector{Int64}:\n",
              " 6\n",
              " 5\n",
              " 4\n",
              " 3\n",
              " 2\n",
              " 1"
            ]
          },
          "metadata": {},
          "output_type": "display_data"
        }
      ],
      "source": [
        "df.x"
      ]
    },
    {
      "cell_type": "code",
      "execution_count": 55,
      "metadata": {},
      "outputs": [
        {
          "data": {
            "text/html": [
              "<div><div style = \"float: left;\"><span>6×2 DataFrame</span></div><div style = \"clear: both;\"></div></div><div class = \"data-frame\" style = \"overflow-x: scroll;\"><table class = \"data-frame\" style = \"margin-bottom: 6px;\"><thead><tr class = \"header\"><th class = \"rowNumber\" style = \"font-weight: bold; text-align: right;\">Row</th><th style = \"text-align: left;\">x</th><th style = \"text-align: left;\">z</th></tr><tr class = \"subheader headerLastRow\"><th class = \"rowNumber\" style = \"font-weight: bold; text-align: right;\"></th><th title = \"Int64\" style = \"text-align: left;\">Int64</th><th title = \"Union{Missing, Int64}\" style = \"text-align: left;\">Int64?</th></tr></thead><tbody><tr><td class = \"rowNumber\" style = \"font-weight: bold; text-align: right;\">1</td><td style = \"text-align: right;\">6</td><td style = \"text-align: right;\">3</td></tr><tr><td class = \"rowNumber\" style = \"font-weight: bold; text-align: right;\">2</td><td style = \"text-align: right;\">5</td><td style = \"text-align: right;\">4</td></tr><tr><td class = \"rowNumber\" style = \"font-weight: bold; text-align: right;\">3</td><td style = \"text-align: right;\">4</td><td style = \"text-align: right;\">5</td></tr><tr><td class = \"rowNumber\" style = \"font-weight: bold; text-align: right;\">4</td><td style = \"text-align: right;\">3</td><td style = \"text-align: right;\">6</td></tr><tr><td class = \"rowNumber\" style = \"font-weight: bold; text-align: right;\">5</td><td style = \"text-align: right;\">2</td><td style = \"text-align: right;\">7</td></tr><tr><td class = \"rowNumber\" style = \"font-weight: bold; text-align: right;\">6</td><td style = \"text-align: right;\">1</td><td style = \"font-style: italic; text-align: right;\">missing</td></tr></tbody></table></div>"
            ],
            "text/latex": [
              "\\begin{tabular}{r|cc}\n",
              "\t& x & z\\\\\n",
              "\t\\hline\n",
              "\t& Int64 & Int64?\\\\\n",
              "\t\\hline\n",
              "\t1 & 6 & 3 \\\\\n",
              "\t2 & 5 & 4 \\\\\n",
              "\t3 & 4 & 5 \\\\\n",
              "\t4 & 3 & 6 \\\\\n",
              "\t5 & 2 & 7 \\\\\n",
              "\t6 & 1 & \\emph{missing} \\\\\n",
              "\\end{tabular}\n"
            ],
            "text/plain": [
              "\u001b[1m6×2 DataFrame\u001b[0m\n",
              "\u001b[1m Row \u001b[0m│\u001b[1m x     \u001b[0m\u001b[1m z       \u001b[0m\n",
              "     │\u001b[90m Int64 \u001b[0m\u001b[90m Int64?  \u001b[0m\n",
              "─────┼────────────────\n",
              "   1 │     6        3\n",
              "   2 │     5        4\n",
              "   3 │     4        5\n",
              "   4 │     3        6\n",
              "   5 │     2        7\n",
              "   6 │     1 \u001b[90m missing \u001b[0m"
            ]
          },
          "metadata": {},
          "output_type": "display_data"
        }
      ],
      "source": [
        "df[:, [:x, :z]]"
      ]
    },
    {
      "attachments": {},
      "cell_type": "markdown",
      "metadata": {},
      "source": [
        "Row indexing by label"
      ]
    },
    {
      "cell_type": "code",
      "execution_count": 56,
      "metadata": {},
      "outputs": [
        {
          "data": {
            "text/html": [
              "<div><div style = \"float: left;\"><span>1×5 DataFrame</span></div><div style = \"clear: both;\"></div></div><div class = \"data-frame\" style = \"overflow-x: scroll;\"><table class = \"data-frame\" style = \"margin-bottom: 6px;\"><thead><tr class = \"header\"><th class = \"rowNumber\" style = \"font-weight: bold; text-align: right;\">Row</th><th style = \"text-align: left;\">grp</th><th style = \"text-align: left;\">x</th><th style = \"text-align: left;\">y</th><th style = \"text-align: left;\">z</th><th style = \"text-align: left;\">id</th></tr><tr class = \"subheader headerLastRow\"><th class = \"rowNumber\" style = \"font-weight: bold; text-align: right;\"></th><th title = \"Int64\" style = \"text-align: left;\">Int64</th><th title = \"Int64\" style = \"text-align: left;\">Int64</th><th title = \"Int64\" style = \"text-align: left;\">Int64</th><th title = \"Union{Missing, Int64}\" style = \"text-align: left;\">Int64?</th><th title = \"Char\" style = \"text-align: left;\">Char</th></tr></thead><tbody><tr><td class = \"rowNumber\" style = \"font-weight: bold; text-align: right;\">1</td><td style = \"text-align: right;\">1</td><td style = \"text-align: right;\">4</td><td style = \"text-align: right;\">6</td><td style = \"text-align: right;\">5</td><td style = \"text-align: left;\">c</td></tr></tbody></table></div>"
            ],
            "text/latex": [
              "\\begin{tabular}{r|ccccc}\n",
              "\t& grp & x & y & z & id\\\\\n",
              "\t\\hline\n",
              "\t& Int64 & Int64 & Int64 & Int64? & Char\\\\\n",
              "\t\\hline\n",
              "\t1 & 1 & 4 & 6 & 5 & c \\\\\n",
              "\\end{tabular}\n"
            ],
            "text/plain": [
              "\u001b[1m1×5 DataFrame\u001b[0m\n",
              "\u001b[1m Row \u001b[0m│\u001b[1m grp   \u001b[0m\u001b[1m x     \u001b[0m\u001b[1m y     \u001b[0m\u001b[1m z      \u001b[0m\u001b[1m id   \u001b[0m\n",
              "     │\u001b[90m Int64 \u001b[0m\u001b[90m Int64 \u001b[0m\u001b[90m Int64 \u001b[0m\u001b[90m Int64? \u001b[0m\u001b[90m Char \u001b[0m\n",
              "─────┼───────────────────────────────────\n",
              "   1 │     1      4      6       5  c"
            ]
          },
          "metadata": {},
          "output_type": "display_data"
        }
      ],
      "source": [
        "df[df.id .== 'c', :]"
      ]
    },
    {
      "attachments": {},
      "cell_type": "markdown",
      "metadata": {},
      "source": [
        "Notice the `.` in front of the `==`. More on that in a minute!"
      ]
    },
    {
      "attachments": {},
      "cell_type": "markdown",
      "metadata": {},
      "source": [
        "### Changing the data stored in a dataframe"
      ]
    },
    {
      "cell_type": "code",
      "execution_count": 59,
      "metadata": {},
      "outputs": [
        {
          "data": {
            "text/html": [
              "<div><div style = \"float: left;\"><span>6×5 DataFrame</span></div><div style = \"clear: both;\"></div></div><div class = \"data-frame\" style = \"overflow-x: scroll;\"><table class = \"data-frame\" style = \"margin-bottom: 6px;\"><thead><tr class = \"header\"><th class = \"rowNumber\" style = \"font-weight: bold; text-align: right;\">Row</th><th style = \"text-align: left;\">grp</th><th style = \"text-align: left;\">x</th><th style = \"text-align: left;\">y</th><th style = \"text-align: left;\">z</th><th style = \"text-align: left;\">id</th></tr><tr class = \"subheader headerLastRow\"><th class = \"rowNumber\" style = \"font-weight: bold; text-align: right;\"></th><th title = \"Int64\" style = \"text-align: left;\">Int64</th><th title = \"Int64\" style = \"text-align: left;\">Int64</th><th title = \"Int64\" style = \"text-align: left;\">Int64</th><th title = \"Union{Missing, Int64}\" style = \"text-align: left;\">Int64?</th><th title = \"Char\" style = \"text-align: left;\">Char</th></tr></thead><tbody><tr><td class = \"rowNumber\" style = \"font-weight: bold; text-align: right;\">1</td><td style = \"text-align: right;\">1</td><td style = \"text-align: right;\">2</td><td style = \"text-align: right;\">4</td><td style = \"text-align: right;\">3</td><td style = \"text-align: left;\">a</td></tr><tr><td class = \"rowNumber\" style = \"font-weight: bold; text-align: right;\">2</td><td style = \"text-align: right;\">2</td><td style = \"text-align: right;\">3</td><td style = \"text-align: right;\">5</td><td style = \"text-align: right;\">4</td><td style = \"text-align: left;\">b</td></tr><tr><td class = \"rowNumber\" style = \"font-weight: bold; text-align: right;\">3</td><td style = \"text-align: right;\">1</td><td style = \"text-align: right;\">1</td><td style = \"text-align: right;\">6</td><td style = \"text-align: right;\">5</td><td style = \"text-align: left;\">c</td></tr><tr><td class = \"rowNumber\" style = \"font-weight: bold; text-align: right;\">4</td><td style = \"text-align: right;\">2</td><td style = \"text-align: right;\">2</td><td style = \"text-align: right;\">7</td><td style = \"text-align: right;\">6</td><td style = \"text-align: left;\">d</td></tr><tr><td class = \"rowNumber\" style = \"font-weight: bold; text-align: right;\">5</td><td style = \"text-align: right;\">1</td><td style = \"text-align: right;\">4</td><td style = \"text-align: right;\">8</td><td style = \"text-align: right;\">7</td><td style = \"text-align: left;\">e</td></tr><tr><td class = \"rowNumber\" style = \"font-weight: bold; text-align: right;\">6</td><td style = \"text-align: right;\">2</td><td style = \"text-align: right;\">2</td><td style = \"text-align: right;\">9</td><td style = \"font-style: italic; text-align: right;\">missing</td><td style = \"text-align: left;\">f</td></tr></tbody></table></div>"
            ],
            "text/latex": [
              "\\begin{tabular}{r|ccccc}\n",
              "\t& grp & x & y & z & id\\\\\n",
              "\t\\hline\n",
              "\t& Int64 & Int64 & Int64 & Int64? & Char\\\\\n",
              "\t\\hline\n",
              "\t1 & 1 & 2 & 4 & 3 & a \\\\\n",
              "\t2 & 2 & 3 & 5 & 4 & b \\\\\n",
              "\t3 & 1 & 1 & 6 & 5 & c \\\\\n",
              "\t4 & 2 & 2 & 7 & 6 & d \\\\\n",
              "\t5 & 1 & 4 & 8 & 7 & e \\\\\n",
              "\t6 & 2 & 2 & 9 & \\emph{missing} & f \\\\\n",
              "\\end{tabular}\n"
            ],
            "text/plain": [
              "\u001b[1m6×5 DataFrame\u001b[0m\n",
              "\u001b[1m Row \u001b[0m│\u001b[1m grp   \u001b[0m\u001b[1m x     \u001b[0m\u001b[1m y     \u001b[0m\u001b[1m z       \u001b[0m\u001b[1m id   \u001b[0m\n",
              "     │\u001b[90m Int64 \u001b[0m\u001b[90m Int64 \u001b[0m\u001b[90m Int64 \u001b[0m\u001b[90m Int64?  \u001b[0m\u001b[90m Char \u001b[0m\n",
              "─────┼────────────────────────────────────\n",
              "   1 │     1      2      4        3  a\n",
              "   2 │     2      3      5        4  b\n",
              "   3 │     1      1      6        5  c\n",
              "   4 │     2      2      7        6  d\n",
              "   5 │     1      4      8        7  e\n",
              "   6 │     2      2      9 \u001b[90m missing \u001b[0m f"
            ]
          },
          "metadata": {},
          "output_type": "display_data"
        }
      ],
      "source": [
        "df.x = rand([1,2,3,4],length(df.x))\n",
        "df"
      ]
    },
    {
      "attachments": {},
      "cell_type": "markdown",
      "metadata": {},
      "source": [
        "Equivalently, one can use the syntax"
      ]
    },
    {
      "cell_type": "code",
      "execution_count": 60,
      "metadata": {},
      "outputs": [
        {
          "data": {
            "text/plain": [
              "6-element Vector{Int64}:\n",
              " 1\n",
              " 1\n",
              " 3\n",
              " 1\n",
              " 2\n",
              " 3"
            ]
          },
          "metadata": {},
          "output_type": "display_data"
        }
      ],
      "source": [
        "df[!,:x] = rand([1,2,3,4],length(df.x))"
      ]
    },
    {
      "attachments": {},
      "cell_type": "markdown",
      "metadata": {},
      "source": [
        "As a special rule using ! as row selector replaces column without copying.\n",
        "\n",
        "Notice that you cannot do something like\n",
        "```julia\n",
        "df[:,:x] = rand([1,2,3,4],length(df.x))\n",
        "```"
      ]
    },
    {
      "attachments": {},
      "cell_type": "markdown",
      "metadata": {},
      "source": [
        "### Common operations"
      ]
    },
    {
      "cell_type": "code",
      "execution_count": 73,
      "metadata": {},
      "outputs": [
        {
          "data": {
            "text/html": [
              "<div><div style = \"float: left;\"><span>5×7 DataFrame</span></div><div style = \"clear: both;\"></div></div><div class = \"data-frame\" style = \"overflow-x: scroll;\"><table class = \"data-frame\" style = \"margin-bottom: 6px;\"><thead><tr class = \"header\"><th class = \"rowNumber\" style = \"font-weight: bold; text-align: right;\">Row</th><th style = \"text-align: left;\">variable</th><th style = \"text-align: left;\">mean</th><th style = \"text-align: left;\">min</th><th style = \"text-align: left;\">median</th><th style = \"text-align: left;\">max</th><th style = \"text-align: left;\">nmissing</th><th style = \"text-align: left;\">eltype</th></tr><tr class = \"subheader headerLastRow\"><th class = \"rowNumber\" style = \"font-weight: bold; text-align: right;\"></th><th title = \"Symbol\" style = \"text-align: left;\">Symbol</th><th title = \"Union{Nothing, Float64}\" style = \"text-align: left;\">Union…</th><th title = \"Any\" style = \"text-align: left;\">Any</th><th title = \"Union{Nothing, Float64}\" style = \"text-align: left;\">Union…</th><th title = \"Any\" style = \"text-align: left;\">Any</th><th title = \"Int64\" style = \"text-align: left;\">Int64</th><th title = \"Type\" style = \"text-align: left;\">Type</th></tr></thead><tbody><tr><td class = \"rowNumber\" style = \"font-weight: bold; text-align: right;\">1</td><td style = \"text-align: left;\">grp</td><td style = \"text-align: left;\">1.5</td><td style = \"text-align: left;\">1</td><td style = \"text-align: left;\">1.5</td><td style = \"text-align: left;\">2</td><td style = \"text-align: right;\">0</td><td style = \"text-align: left;\">Int64</td></tr><tr><td class = \"rowNumber\" style = \"font-weight: bold; text-align: right;\">2</td><td style = \"text-align: left;\">x</td><td style = \"text-align: left;\">1.83333</td><td style = \"text-align: left;\">1</td><td style = \"text-align: left;\">1.5</td><td style = \"text-align: left;\">3</td><td style = \"text-align: right;\">0</td><td style = \"text-align: left;\">Int64</td></tr><tr><td class = \"rowNumber\" style = \"font-weight: bold; text-align: right;\">3</td><td style = \"text-align: left;\">y</td><td style = \"text-align: left;\">6.5</td><td style = \"text-align: left;\">4</td><td style = \"text-align: left;\">6.5</td><td style = \"text-align: left;\">9</td><td style = \"text-align: right;\">0</td><td style = \"text-align: left;\">Int64</td></tr><tr><td class = \"rowNumber\" style = \"font-weight: bold; text-align: right;\">4</td><td style = \"text-align: left;\">z</td><td style = \"text-align: left;\">5.0</td><td style = \"text-align: left;\">3</td><td style = \"text-align: left;\">5.0</td><td style = \"text-align: left;\">7</td><td style = \"text-align: right;\">1</td><td style = \"text-align: left;\">Union{Missing, Int64}</td></tr><tr><td class = \"rowNumber\" style = \"font-weight: bold; text-align: right;\">5</td><td style = \"text-align: left;\">id</td><td style = \"font-style: italic; text-align: left;\"></td><td style = \"text-align: left;\">a</td><td style = \"font-style: italic; text-align: left;\"></td><td style = \"text-align: left;\">f</td><td style = \"text-align: right;\">0</td><td style = \"text-align: left;\">Char</td></tr></tbody></table></div>"
            ],
            "text/latex": [
              "\\begin{tabular}{r|ccccccc}\n",
              "\t& variable & mean & min & median & max & nmissing & eltype\\\\\n",
              "\t\\hline\n",
              "\t& Symbol & Union… & Any & Union… & Any & Int64 & Type\\\\\n",
              "\t\\hline\n",
              "\t1 & grp & 1.5 & 1 & 1.5 & 2 & 0 & Int64 \\\\\n",
              "\t2 & x & 1.83333 & 1 & 1.5 & 3 & 0 & Int64 \\\\\n",
              "\t3 & y & 6.5 & 4 & 6.5 & 9 & 0 & Int64 \\\\\n",
              "\t4 & z & 5.0 & 3 & 5.0 & 7 & 1 & Union\\{Missing, Int64\\} \\\\\n",
              "\t5 & id &  & a &  & f & 0 & Char \\\\\n",
              "\\end{tabular}\n"
            ],
            "text/plain": [
              "\u001b[1m5×7 DataFrame\u001b[0m\n",
              "\u001b[1m Row \u001b[0m│\u001b[1m variable \u001b[0m\u001b[1m mean    \u001b[0m\u001b[1m min \u001b[0m\u001b[1m median \u001b[0m\u001b[1m max \u001b[0m\u001b[1m nmissing \u001b[0m\u001b[1m eltype                \u001b[0m\n",
              "     │\u001b[90m Symbol   \u001b[0m\u001b[90m Union…  \u001b[0m\u001b[90m Any \u001b[0m\u001b[90m Union… \u001b[0m\u001b[90m Any \u001b[0m\u001b[90m Int64    \u001b[0m\u001b[90m Type                  \u001b[0m\n",
              "─────┼──────────────────────────────────────────────────────────────────────\n",
              "   1 │ grp       1.5      1    1.5     2           0  Int64\n",
              "   2 │ x         1.83333  1    1.5     3           0  Int64\n",
              "   3 │ y         6.5      4    6.5     9           0  Int64\n",
              "   4 │ z         5.0      3    5.0     7           1  Union{Missing, Int64}\n",
              "   5 │ id       \u001b[90m         \u001b[0m a   \u001b[90m        \u001b[0m f           0  Char"
            ]
          },
          "metadata": {},
          "output_type": "display_data"
        }
      ],
      "source": [
        "describe(df)"
      ]
    },
    {
      "attachments": {},
      "cell_type": "markdown",
      "metadata": {},
      "source": [
        "Reduce multiple values"
      ]
    },
    {
      "cell_type": "code",
      "execution_count": 19,
      "metadata": {},
      "outputs": [
        {
          "data": {
            "text/plain": [
              "5.0"
            ]
          },
          "metadata": {},
          "output_type": "display_data"
        }
      ],
      "source": [
        "mean(skipmissing(df.z))"
      ]
    },
    {
      "attachments": {},
      "cell_type": "markdown",
      "metadata": {},
      "source": [
        "Rename columns"
      ]
    },
    {
      "cell_type": "code",
      "execution_count": 20,
      "metadata": {},
      "outputs": [
        {
          "data": {
            "text/html": [
              "<div><div style = \"float: left;\"><span>6×5 DataFrame</span></div><div style = \"clear: both;\"></div></div><div class = \"data-frame\" style = \"overflow-x: scroll;\"><table class = \"data-frame\" style = \"margin-bottom: 6px;\"><thead><tr class = \"header\"><th class = \"rowNumber\" style = \"font-weight: bold; text-align: right;\">Row</th><th style = \"text-align: left;\">grp</th><th style = \"text-align: left;\">x_new</th><th style = \"text-align: left;\">y</th><th style = \"text-align: left;\">z</th><th style = \"text-align: left;\">id</th></tr><tr class = \"subheader headerLastRow\"><th class = \"rowNumber\" style = \"font-weight: bold; text-align: right;\"></th><th title = \"Int64\" style = \"text-align: left;\">Int64</th><th title = \"Int64\" style = \"text-align: left;\">Int64</th><th title = \"Int64\" style = \"text-align: left;\">Int64</th><th title = \"Union{Missing, Int64}\" style = \"text-align: left;\">Int64?</th><th title = \"Char\" style = \"text-align: left;\">Char</th></tr></thead><tbody><tr><td class = \"rowNumber\" style = \"font-weight: bold; text-align: right;\">1</td><td style = \"text-align: right;\">1</td><td style = \"text-align: right;\">6</td><td style = \"text-align: right;\">4</td><td style = \"text-align: right;\">3</td><td style = \"text-align: left;\">a</td></tr><tr><td class = \"rowNumber\" style = \"font-weight: bold; text-align: right;\">2</td><td style = \"text-align: right;\">2</td><td style = \"text-align: right;\">5</td><td style = \"text-align: right;\">5</td><td style = \"text-align: right;\">4</td><td style = \"text-align: left;\">b</td></tr><tr><td class = \"rowNumber\" style = \"font-weight: bold; text-align: right;\">3</td><td style = \"text-align: right;\">1</td><td style = \"text-align: right;\">4</td><td style = \"text-align: right;\">6</td><td style = \"text-align: right;\">5</td><td style = \"text-align: left;\">c</td></tr><tr><td class = \"rowNumber\" style = \"font-weight: bold; text-align: right;\">4</td><td style = \"text-align: right;\">2</td><td style = \"text-align: right;\">3</td><td style = \"text-align: right;\">7</td><td style = \"text-align: right;\">6</td><td style = \"text-align: left;\">d</td></tr><tr><td class = \"rowNumber\" style = \"font-weight: bold; text-align: right;\">5</td><td style = \"text-align: right;\">1</td><td style = \"text-align: right;\">2</td><td style = \"text-align: right;\">8</td><td style = \"text-align: right;\">7</td><td style = \"text-align: left;\">e</td></tr><tr><td class = \"rowNumber\" style = \"font-weight: bold; text-align: right;\">6</td><td style = \"text-align: right;\">2</td><td style = \"text-align: right;\">1</td><td style = \"text-align: right;\">9</td><td style = \"font-style: italic; text-align: right;\">missing</td><td style = \"text-align: left;\">f</td></tr></tbody></table></div>"
            ],
            "text/latex": [
              "\\begin{tabular}{r|ccccc}\n",
              "\t& grp & x\\_new & y & z & id\\\\\n",
              "\t\\hline\n",
              "\t& Int64 & Int64 & Int64 & Int64? & Char\\\\\n",
              "\t\\hline\n",
              "\t1 & 1 & 6 & 4 & 3 & a \\\\\n",
              "\t2 & 2 & 5 & 5 & 4 & b \\\\\n",
              "\t3 & 1 & 4 & 6 & 5 & c \\\\\n",
              "\t4 & 2 & 3 & 7 & 6 & d \\\\\n",
              "\t5 & 1 & 2 & 8 & 7 & e \\\\\n",
              "\t6 & 2 & 1 & 9 & \\emph{missing} & f \\\\\n",
              "\\end{tabular}\n"
            ],
            "text/plain": [
              "\u001b[1m6×5 DataFrame\u001b[0m\n",
              "\u001b[1m Row \u001b[0m│\u001b[1m grp   \u001b[0m\u001b[1m x_new \u001b[0m\u001b[1m y     \u001b[0m\u001b[1m z       \u001b[0m\u001b[1m id   \u001b[0m\n",
              "     │\u001b[90m Int64 \u001b[0m\u001b[90m Int64 \u001b[0m\u001b[90m Int64 \u001b[0m\u001b[90m Int64?  \u001b[0m\u001b[90m Char \u001b[0m\n",
              "─────┼────────────────────────────────────\n",
              "   1 │     1      6      4        3  a\n",
              "   2 │     2      5      5        4  b\n",
              "   3 │     1      4      6        5  c\n",
              "   4 │     2      3      7        6  d\n",
              "   5 │     1      2      8        7  e\n",
              "   6 │     2      1      9 \u001b[90m missing \u001b[0m f"
            ]
          },
          "metadata": {},
          "output_type": "display_data"
        }
      ],
      "source": [
        "rename(df, :x => :x_new)"
      ]
    },
    {
      "attachments": {},
      "cell_type": "markdown",
      "metadata": {},
      "source": [
        "With the bang operator"
      ]
    },
    {
      "cell_type": "code",
      "execution_count": 21,
      "metadata": {},
      "outputs": [
        {
          "data": {
            "text/html": [
              "<div><div style = \"float: left;\"><span>6×5 DataFrame</span></div><div style = \"clear: both;\"></div></div><div class = \"data-frame\" style = \"overflow-x: scroll;\"><table class = \"data-frame\" style = \"margin-bottom: 6px;\"><thead><tr class = \"header\"><th class = \"rowNumber\" style = \"font-weight: bold; text-align: right;\">Row</th><th style = \"text-align: left;\">grp</th><th style = \"text-align: left;\">x_new</th><th style = \"text-align: left;\">y</th><th style = \"text-align: left;\">z</th><th style = \"text-align: left;\">id</th></tr><tr class = \"subheader headerLastRow\"><th class = \"rowNumber\" style = \"font-weight: bold; text-align: right;\"></th><th title = \"Int64\" style = \"text-align: left;\">Int64</th><th title = \"Int64\" style = \"text-align: left;\">Int64</th><th title = \"Int64\" style = \"text-align: left;\">Int64</th><th title = \"Union{Missing, Int64}\" style = \"text-align: left;\">Int64?</th><th title = \"Char\" style = \"text-align: left;\">Char</th></tr></thead><tbody><tr><td class = \"rowNumber\" style = \"font-weight: bold; text-align: right;\">1</td><td style = \"text-align: right;\">1</td><td style = \"text-align: right;\">6</td><td style = \"text-align: right;\">4</td><td style = \"text-align: right;\">3</td><td style = \"text-align: left;\">a</td></tr><tr><td class = \"rowNumber\" style = \"font-weight: bold; text-align: right;\">2</td><td style = \"text-align: right;\">2</td><td style = \"text-align: right;\">5</td><td style = \"text-align: right;\">5</td><td style = \"text-align: right;\">4</td><td style = \"text-align: left;\">b</td></tr><tr><td class = \"rowNumber\" style = \"font-weight: bold; text-align: right;\">3</td><td style = \"text-align: right;\">1</td><td style = \"text-align: right;\">4</td><td style = \"text-align: right;\">6</td><td style = \"text-align: right;\">5</td><td style = \"text-align: left;\">c</td></tr><tr><td class = \"rowNumber\" style = \"font-weight: bold; text-align: right;\">4</td><td style = \"text-align: right;\">2</td><td style = \"text-align: right;\">3</td><td style = \"text-align: right;\">7</td><td style = \"text-align: right;\">6</td><td style = \"text-align: left;\">d</td></tr><tr><td class = \"rowNumber\" style = \"font-weight: bold; text-align: right;\">5</td><td style = \"text-align: right;\">1</td><td style = \"text-align: right;\">2</td><td style = \"text-align: right;\">8</td><td style = \"text-align: right;\">7</td><td style = \"text-align: left;\">e</td></tr><tr><td class = \"rowNumber\" style = \"font-weight: bold; text-align: right;\">6</td><td style = \"text-align: right;\">2</td><td style = \"text-align: right;\">1</td><td style = \"text-align: right;\">9</td><td style = \"font-style: italic; text-align: right;\">missing</td><td style = \"text-align: left;\">f</td></tr></tbody></table></div>"
            ],
            "text/latex": [
              "\\begin{tabular}{r|ccccc}\n",
              "\t& grp & x\\_new & y & z & id\\\\\n",
              "\t\\hline\n",
              "\t& Int64 & Int64 & Int64 & Int64? & Char\\\\\n",
              "\t\\hline\n",
              "\t1 & 1 & 6 & 4 & 3 & a \\\\\n",
              "\t2 & 2 & 5 & 5 & 4 & b \\\\\n",
              "\t3 & 1 & 4 & 6 & 5 & c \\\\\n",
              "\t4 & 2 & 3 & 7 & 6 & d \\\\\n",
              "\t5 & 1 & 2 & 8 & 7 & e \\\\\n",
              "\t6 & 2 & 1 & 9 & \\emph{missing} & f \\\\\n",
              "\\end{tabular}\n"
            ],
            "text/plain": [
              "\u001b[1m6×5 DataFrame\u001b[0m\n",
              "\u001b[1m Row \u001b[0m│\u001b[1m grp   \u001b[0m\u001b[1m x_new \u001b[0m\u001b[1m y     \u001b[0m\u001b[1m z       \u001b[0m\u001b[1m id   \u001b[0m\n",
              "     │\u001b[90m Int64 \u001b[0m\u001b[90m Int64 \u001b[0m\u001b[90m Int64 \u001b[0m\u001b[90m Int64?  \u001b[0m\u001b[90m Char \u001b[0m\n",
              "─────┼────────────────────────────────────\n",
              "   1 │     1      6      4        3  a\n",
              "   2 │     2      5      5        4  b\n",
              "   3 │     1      4      6        5  c\n",
              "   4 │     2      3      7        6  d\n",
              "   5 │     1      2      8        7  e\n",
              "   6 │     2      1      9 \u001b[90m missing \u001b[0m f"
            ]
          },
          "metadata": {},
          "output_type": "display_data"
        }
      ],
      "source": [
        "rename!(df, :x => :x_new)"
      ]
    },
    {
      "cell_type": "markdown",
      "metadata": {},
      "source": [
        "Drop missing rows"
      ]
    },
    {
      "cell_type": "code",
      "execution_count": 23,
      "metadata": {},
      "outputs": [
        {
          "data": {
            "text/html": [
              "<div><div style = \"float: left;\"><span>5×5 DataFrame</span></div><div style = \"clear: both;\"></div></div><div class = \"data-frame\" style = \"overflow-x: scroll;\"><table class = \"data-frame\" style = \"margin-bottom: 6px;\"><thead><tr class = \"header\"><th class = \"rowNumber\" style = \"font-weight: bold; text-align: right;\">Row</th><th style = \"text-align: left;\">grp</th><th style = \"text-align: left;\">x_new</th><th style = \"text-align: left;\">y</th><th style = \"text-align: left;\">z</th><th style = \"text-align: left;\">id</th></tr><tr class = \"subheader headerLastRow\"><th class = \"rowNumber\" style = \"font-weight: bold; text-align: right;\"></th><th title = \"Int64\" style = \"text-align: left;\">Int64</th><th title = \"Int64\" style = \"text-align: left;\">Int64</th><th title = \"Int64\" style = \"text-align: left;\">Int64</th><th title = \"Int64\" style = \"text-align: left;\">Int64</th><th title = \"Char\" style = \"text-align: left;\">Char</th></tr></thead><tbody><tr><td class = \"rowNumber\" style = \"font-weight: bold; text-align: right;\">1</td><td style = \"text-align: right;\">1</td><td style = \"text-align: right;\">6</td><td style = \"text-align: right;\">4</td><td style = \"text-align: right;\">3</td><td style = \"text-align: left;\">a</td></tr><tr><td class = \"rowNumber\" style = \"font-weight: bold; text-align: right;\">2</td><td style = \"text-align: right;\">2</td><td style = \"text-align: right;\">5</td><td style = \"text-align: right;\">5</td><td style = \"text-align: right;\">4</td><td style = \"text-align: left;\">b</td></tr><tr><td class = \"rowNumber\" style = \"font-weight: bold; text-align: right;\">3</td><td style = \"text-align: right;\">1</td><td style = \"text-align: right;\">4</td><td style = \"text-align: right;\">6</td><td style = \"text-align: right;\">5</td><td style = \"text-align: left;\">c</td></tr><tr><td class = \"rowNumber\" style = \"font-weight: bold; text-align: right;\">4</td><td style = \"text-align: right;\">2</td><td style = \"text-align: right;\">3</td><td style = \"text-align: right;\">7</td><td style = \"text-align: right;\">6</td><td style = \"text-align: left;\">d</td></tr><tr><td class = \"rowNumber\" style = \"font-weight: bold; text-align: right;\">5</td><td style = \"text-align: right;\">1</td><td style = \"text-align: right;\">2</td><td style = \"text-align: right;\">8</td><td style = \"text-align: right;\">7</td><td style = \"text-align: left;\">e</td></tr></tbody></table></div>"
            ],
            "text/latex": [
              "\\begin{tabular}{r|ccccc}\n",
              "\t& grp & x\\_new & y & z & id\\\\\n",
              "\t\\hline\n",
              "\t& Int64 & Int64 & Int64 & Int64 & Char\\\\\n",
              "\t\\hline\n",
              "\t1 & 1 & 6 & 4 & 3 & a \\\\\n",
              "\t2 & 2 & 5 & 5 & 4 & b \\\\\n",
              "\t3 & 1 & 4 & 6 & 5 & c \\\\\n",
              "\t4 & 2 & 3 & 7 & 6 & d \\\\\n",
              "\t5 & 1 & 2 & 8 & 7 & e \\\\\n",
              "\\end{tabular}\n"
            ],
            "text/plain": [
              "\u001b[1m5×5 DataFrame\u001b[0m\n",
              "\u001b[1m Row \u001b[0m│\u001b[1m grp   \u001b[0m\u001b[1m x_new \u001b[0m\u001b[1m y     \u001b[0m\u001b[1m z     \u001b[0m\u001b[1m id   \u001b[0m\n",
              "     │\u001b[90m Int64 \u001b[0m\u001b[90m Int64 \u001b[0m\u001b[90m Int64 \u001b[0m\u001b[90m Int64 \u001b[0m\u001b[90m Char \u001b[0m\n",
              "─────┼──────────────────────────────────\n",
              "   1 │     1      6      4      3  a\n",
              "   2 │     2      5      5      4  b\n",
              "   3 │     1      4      6      5  c\n",
              "   4 │     2      3      7      6  d\n",
              "   5 │     1      2      8      7  e"
            ]
          },
          "metadata": {},
          "output_type": "display_data"
        }
      ],
      "source": [
        "dropmissing(df)"
      ]
    },
    {
      "attachments": {},
      "cell_type": "markdown",
      "metadata": {},
      "source": [
        "Select unique rows"
      ]
    },
    {
      "cell_type": "code",
      "execution_count": 24,
      "metadata": {},
      "outputs": [
        {
          "data": {
            "text/html": [
              "<div><div style = \"float: left;\"><span>6×5 DataFrame</span></div><div style = \"clear: both;\"></div></div><div class = \"data-frame\" style = \"overflow-x: scroll;\"><table class = \"data-frame\" style = \"margin-bottom: 6px;\"><thead><tr class = \"header\"><th class = \"rowNumber\" style = \"font-weight: bold; text-align: right;\">Row</th><th style = \"text-align: left;\">grp</th><th style = \"text-align: left;\">x_new</th><th style = \"text-align: left;\">y</th><th style = \"text-align: left;\">z</th><th style = \"text-align: left;\">id</th></tr><tr class = \"subheader headerLastRow\"><th class = \"rowNumber\" style = \"font-weight: bold; text-align: right;\"></th><th title = \"Int64\" style = \"text-align: left;\">Int64</th><th title = \"Int64\" style = \"text-align: left;\">Int64</th><th title = \"Int64\" style = \"text-align: left;\">Int64</th><th title = \"Union{Missing, Int64}\" style = \"text-align: left;\">Int64?</th><th title = \"Char\" style = \"text-align: left;\">Char</th></tr></thead><tbody><tr><td class = \"rowNumber\" style = \"font-weight: bold; text-align: right;\">1</td><td style = \"text-align: right;\">1</td><td style = \"text-align: right;\">6</td><td style = \"text-align: right;\">4</td><td style = \"text-align: right;\">3</td><td style = \"text-align: left;\">a</td></tr><tr><td class = \"rowNumber\" style = \"font-weight: bold; text-align: right;\">2</td><td style = \"text-align: right;\">2</td><td style = \"text-align: right;\">5</td><td style = \"text-align: right;\">5</td><td style = \"text-align: right;\">4</td><td style = \"text-align: left;\">b</td></tr><tr><td class = \"rowNumber\" style = \"font-weight: bold; text-align: right;\">3</td><td style = \"text-align: right;\">1</td><td style = \"text-align: right;\">4</td><td style = \"text-align: right;\">6</td><td style = \"text-align: right;\">5</td><td style = \"text-align: left;\">c</td></tr><tr><td class = \"rowNumber\" style = \"font-weight: bold; text-align: right;\">4</td><td style = \"text-align: right;\">2</td><td style = \"text-align: right;\">3</td><td style = \"text-align: right;\">7</td><td style = \"text-align: right;\">6</td><td style = \"text-align: left;\">d</td></tr><tr><td class = \"rowNumber\" style = \"font-weight: bold; text-align: right;\">5</td><td style = \"text-align: right;\">1</td><td style = \"text-align: right;\">2</td><td style = \"text-align: right;\">8</td><td style = \"text-align: right;\">7</td><td style = \"text-align: left;\">e</td></tr><tr><td class = \"rowNumber\" style = \"font-weight: bold; text-align: right;\">6</td><td style = \"text-align: right;\">2</td><td style = \"text-align: right;\">1</td><td style = \"text-align: right;\">9</td><td style = \"font-style: italic; text-align: right;\">missing</td><td style = \"text-align: left;\">f</td></tr></tbody></table></div>"
            ],
            "text/latex": [
              "\\begin{tabular}{r|ccccc}\n",
              "\t& grp & x\\_new & y & z & id\\\\\n",
              "\t\\hline\n",
              "\t& Int64 & Int64 & Int64 & Int64? & Char\\\\\n",
              "\t\\hline\n",
              "\t1 & 1 & 6 & 4 & 3 & a \\\\\n",
              "\t2 & 2 & 5 & 5 & 4 & b \\\\\n",
              "\t3 & 1 & 4 & 6 & 5 & c \\\\\n",
              "\t4 & 2 & 3 & 7 & 6 & d \\\\\n",
              "\t5 & 1 & 2 & 8 & 7 & e \\\\\n",
              "\t6 & 2 & 1 & 9 & \\emph{missing} & f \\\\\n",
              "\\end{tabular}\n"
            ],
            "text/plain": [
              "\u001b[1m6×5 DataFrame\u001b[0m\n",
              "\u001b[1m Row \u001b[0m│\u001b[1m grp   \u001b[0m\u001b[1m x_new \u001b[0m\u001b[1m y     \u001b[0m\u001b[1m z       \u001b[0m\u001b[1m id   \u001b[0m\n",
              "     │\u001b[90m Int64 \u001b[0m\u001b[90m Int64 \u001b[0m\u001b[90m Int64 \u001b[0m\u001b[90m Int64?  \u001b[0m\u001b[90m Char \u001b[0m\n",
              "─────┼────────────────────────────────────\n",
              "   1 │     1      6      4        3  a\n",
              "   2 │     2      5      5        4  b\n",
              "   3 │     1      4      6        5  c\n",
              "   4 │     2      3      7        6  d\n",
              "   5 │     1      2      8        7  e\n",
              "   6 │     2      1      9 \u001b[90m missing \u001b[0m f"
            ]
          },
          "metadata": {},
          "output_type": "display_data"
        }
      ],
      "source": [
        "unique(df)"
      ]
    },
    {
      "attachments": {},
      "cell_type": "markdown",
      "metadata": {},
      "source": [
        "### Grouping data and aggregation\n",
        "DataFrames.jl provides a groupby function to apply operations over each group independently. The result of groupby is a GroupedDataFrame object which may be processed using the combine, transform, or select functions. The following table illustrates some common grouping and aggregation usages."
      ]
    },
    {
      "cell_type": "code",
      "execution_count": 27,
      "metadata": {},
      "outputs": [
        {
          "data": {
            "text/html": [
              "<p><b>GroupedDataFrame with 2 groups based on key: grp</b></p><div><div style = \"float: left;\"><span>First Group (3 rows): grp = 1</span></div><div style = \"clear: both;\"></div></div><div class = \"data-frame\" style = \"overflow-x: scroll;\"><table class = \"data-frame\" style = \"margin-bottom: 6px;\"><thead><tr class = \"header\"><th class = \"rowNumber\" style = \"font-weight: bold; text-align: right;\">Row</th><th style = \"text-align: left;\">grp</th><th style = \"text-align: left;\">x_new</th><th style = \"text-align: left;\">y</th><th style = \"text-align: left;\">z</th><th style = \"text-align: left;\">id</th></tr><tr class = \"subheader headerLastRow\"><th class = \"rowNumber\" style = \"font-weight: bold; text-align: right;\"></th><th title = \"Int64\" style = \"text-align: left;\">Int64</th><th title = \"Int64\" style = \"text-align: left;\">Int64</th><th title = \"Int64\" style = \"text-align: left;\">Int64</th><th title = \"Union{Missing, Int64}\" style = \"text-align: left;\">Int64?</th><th title = \"Char\" style = \"text-align: left;\">Char</th></tr></thead><tbody><tr><td class = \"rowNumber\" style = \"font-weight: bold; text-align: right;\">1</td><td style = \"text-align: right;\">1</td><td style = \"text-align: right;\">6</td><td style = \"text-align: right;\">4</td><td style = \"text-align: right;\">3</td><td style = \"text-align: left;\">a</td></tr><tr><td class = \"rowNumber\" style = \"font-weight: bold; text-align: right;\">2</td><td style = \"text-align: right;\">1</td><td style = \"text-align: right;\">4</td><td style = \"text-align: right;\">6</td><td style = \"text-align: right;\">5</td><td style = \"text-align: left;\">c</td></tr><tr><td class = \"rowNumber\" style = \"font-weight: bold; text-align: right;\">3</td><td style = \"text-align: right;\">1</td><td style = \"text-align: right;\">2</td><td style = \"text-align: right;\">8</td><td style = \"text-align: right;\">7</td><td style = \"text-align: left;\">e</td></tr></tbody></table></div><p>&vellip;</p><div><div style = \"float: left;\"><span>Last Group (3 rows): grp = 2</span></div><div style = \"clear: both;\"></div></div><div class = \"data-frame\" style = \"overflow-x: scroll;\"><table class = \"data-frame\" style = \"margin-bottom: 6px;\"><thead><tr class = \"header\"><th class = \"rowNumber\" style = \"font-weight: bold; text-align: right;\">Row</th><th style = \"text-align: left;\">grp</th><th style = \"text-align: left;\">x_new</th><th style = \"text-align: left;\">y</th><th style = \"text-align: left;\">z</th><th style = \"text-align: left;\">id</th></tr><tr class = \"subheader headerLastRow\"><th class = \"rowNumber\" style = \"font-weight: bold; text-align: right;\"></th><th title = \"Int64\" style = \"text-align: left;\">Int64</th><th title = \"Int64\" style = \"text-align: left;\">Int64</th><th title = \"Int64\" style = \"text-align: left;\">Int64</th><th title = \"Union{Missing, Int64}\" style = \"text-align: left;\">Int64?</th><th title = \"Char\" style = \"text-align: left;\">Char</th></tr></thead><tbody><tr><td class = \"rowNumber\" style = \"font-weight: bold; text-align: right;\">1</td><td style = \"text-align: right;\">2</td><td style = \"text-align: right;\">5</td><td style = \"text-align: right;\">5</td><td style = \"text-align: right;\">4</td><td style = \"text-align: left;\">b</td></tr><tr><td class = \"rowNumber\" style = \"font-weight: bold; text-align: right;\">2</td><td style = \"text-align: right;\">2</td><td style = \"text-align: right;\">3</td><td style = \"text-align: right;\">7</td><td style = \"text-align: right;\">6</td><td style = \"text-align: left;\">d</td></tr><tr><td class = \"rowNumber\" style = \"font-weight: bold; text-align: right;\">3</td><td style = \"text-align: right;\">2</td><td style = \"text-align: right;\">1</td><td style = \"text-align: right;\">9</td><td style = \"font-style: italic; text-align: right;\">missing</td><td style = \"text-align: left;\">f</td></tr></tbody></table></div>"
            ],
            "text/latex": [
              "GroupedDataFrame with 2 groups based on key: grp\n",
              "\n",
              "First Group (3 rows): grp = 1\n",
              "\n",
              "\\begin{tabular}{r|ccccc}\n",
              "\t& grp & x\\_new & y & z & id\\\\\n",
              "\t\\hline\n",
              "\t& Int64 & Int64 & Int64 & Int64? & Char\\\\\n",
              "\t\\hline\n",
              "\t1 & 1 & 6 & 4 & 3 & a \\\\\n",
              "\t2 & 1 & 4 & 6 & 5 & c \\\\\n",
              "\t3 & 1 & 2 & 8 & 7 & e \\\\\n",
              "\\end{tabular}\n",
              "\n",
              "$\\dots$\n",
              "\n",
              "Last Group (3 rows): grp = 2\n",
              "\n",
              "\\begin{tabular}{r|ccccc}\n",
              "\t& grp & x\\_new & y & z & id\\\\\n",
              "\t\\hline\n",
              "\t& Int64 & Int64 & Int64 & Int64? & Char\\\\\n",
              "\t\\hline\n",
              "\t1 & 2 & 5 & 5 & 4 & b \\\\\n",
              "\t2 & 2 & 3 & 7 & 6 & d \\\\\n",
              "\t3 & 2 & 1 & 9 & \\emph{missing} & f \\\\\n",
              "\\end{tabular}\n"
            ],
            "text/plain": [
              "GroupedDataFrame with 2 groups based on key: grp\n",
              "First Group (3 rows): grp = 1\n",
              "\u001b[1m Row \u001b[0m│\u001b[1m grp   \u001b[0m\u001b[1m x_new \u001b[0m\u001b[1m y     \u001b[0m\u001b[1m z      \u001b[0m\u001b[1m id   \u001b[0m\n",
              "     │\u001b[90m Int64 \u001b[0m\u001b[90m Int64 \u001b[0m\u001b[90m Int64 \u001b[0m\u001b[90m Int64? \u001b[0m\u001b[90m Char \u001b[0m\n",
              "─────┼───────────────────────────────────\n",
              "   1 │     1      6      4       3  a\n",
              "   2 │     1      4      6       5  c\n",
              "   3 │     1      2      8       7  e\n",
              "⋮\n",
              "Last Group (3 rows): grp = 2\n",
              "\u001b[1m Row \u001b[0m│\u001b[1m grp   \u001b[0m\u001b[1m x_new \u001b[0m\u001b[1m y     \u001b[0m\u001b[1m z       \u001b[0m\u001b[1m id   \u001b[0m\n",
              "     │\u001b[90m Int64 \u001b[0m\u001b[90m Int64 \u001b[0m\u001b[90m Int64 \u001b[0m\u001b[90m Int64?  \u001b[0m\u001b[90m Char \u001b[0m\n",
              "─────┼────────────────────────────────────\n",
              "   1 │     2      5      5        4  b\n",
              "   2 │     2      3      7        6  d\n",
              "   3 │     2      1      9 \u001b[90m missing \u001b[0m f"
            ]
          },
          "metadata": {},
          "output_type": "display_data"
        }
      ],
      "source": [
        "dfg = groupby(df, :grp)"
      ]
    },
    {
      "cell_type": "code",
      "execution_count": 28,
      "metadata": {},
      "outputs": [
        {
          "data": {
            "text/html": [
              "<div><div style = \"float: left;\"><span>3×5 SubDataFrame</span></div><div style = \"clear: both;\"></div></div><div class = \"data-frame\" style = \"overflow-x: scroll;\"><table class = \"data-frame\" style = \"margin-bottom: 6px;\"><thead><tr class = \"header\"><th class = \"rowNumber\" style = \"font-weight: bold; text-align: right;\">Row</th><th style = \"text-align: left;\">grp</th><th style = \"text-align: left;\">x_new</th><th style = \"text-align: left;\">y</th><th style = \"text-align: left;\">z</th><th style = \"text-align: left;\">id</th></tr><tr class = \"subheader headerLastRow\"><th class = \"rowNumber\" style = \"font-weight: bold; text-align: right;\"></th><th title = \"Int64\" style = \"text-align: left;\">Int64</th><th title = \"Int64\" style = \"text-align: left;\">Int64</th><th title = \"Int64\" style = \"text-align: left;\">Int64</th><th title = \"Union{Missing, Int64}\" style = \"text-align: left;\">Int64?</th><th title = \"Char\" style = \"text-align: left;\">Char</th></tr></thead><tbody><tr><td class = \"rowNumber\" style = \"font-weight: bold; text-align: right;\">1</td><td style = \"text-align: right;\">1</td><td style = \"text-align: right;\">6</td><td style = \"text-align: right;\">4</td><td style = \"text-align: right;\">3</td><td style = \"text-align: left;\">a</td></tr><tr><td class = \"rowNumber\" style = \"font-weight: bold; text-align: right;\">2</td><td style = \"text-align: right;\">1</td><td style = \"text-align: right;\">4</td><td style = \"text-align: right;\">6</td><td style = \"text-align: right;\">5</td><td style = \"text-align: left;\">c</td></tr><tr><td class = \"rowNumber\" style = \"font-weight: bold; text-align: right;\">3</td><td style = \"text-align: right;\">1</td><td style = \"text-align: right;\">2</td><td style = \"text-align: right;\">8</td><td style = \"text-align: right;\">7</td><td style = \"text-align: left;\">e</td></tr></tbody></table></div>"
            ],
            "text/latex": [
              "\\begin{tabular}{r|ccccc}\n",
              "\t& grp & x\\_new & y & z & id\\\\\n",
              "\t\\hline\n",
              "\t& Int64 & Int64 & Int64 & Int64? & Char\\\\\n",
              "\t\\hline\n",
              "\t1 & 1 & 6 & 4 & 3 & a \\\\\n",
              "\t2 & 1 & 4 & 6 & 5 & c \\\\\n",
              "\t3 & 1 & 2 & 8 & 7 & e \\\\\n",
              "\\end{tabular}\n"
            ],
            "text/plain": [
              "\u001b[1m3×5 SubDataFrame\u001b[0m\n",
              "\u001b[1m Row \u001b[0m│\u001b[1m grp   \u001b[0m\u001b[1m x_new \u001b[0m\u001b[1m y     \u001b[0m\u001b[1m z      \u001b[0m\u001b[1m id   \u001b[0m\n",
              "     │\u001b[90m Int64 \u001b[0m\u001b[90m Int64 \u001b[0m\u001b[90m Int64 \u001b[0m\u001b[90m Int64? \u001b[0m\u001b[90m Char \u001b[0m\n",
              "─────┼───────────────────────────────────\n",
              "   1 │     1      6      4       3  a\n",
              "   2 │     1      4      6       5  c\n",
              "   3 │     1      2      8       7  e"
            ]
          },
          "metadata": {},
          "output_type": "display_data"
        }
      ],
      "source": [
        "dfg[1]"
      ]
    },
    {
      "attachments": {},
      "cell_type": "markdown",
      "metadata": {},
      "source": [
        "Aggregate by groups"
      ]
    },
    {
      "cell_type": "code",
      "execution_count": 30,
      "metadata": {},
      "outputs": [
        {
          "data": {
            "text/html": [
              "<div><div style = \"float: left;\"><span>2×2 DataFrame</span></div><div style = \"clear: both;\"></div></div><div class = \"data-frame\" style = \"overflow-x: scroll;\"><table class = \"data-frame\" style = \"margin-bottom: 6px;\"><thead><tr class = \"header\"><th class = \"rowNumber\" style = \"font-weight: bold; text-align: right;\">Row</th><th style = \"text-align: left;\">grp</th><th style = \"text-align: left;\">y_mean</th></tr><tr class = \"subheader headerLastRow\"><th class = \"rowNumber\" style = \"font-weight: bold; text-align: right;\"></th><th title = \"Int64\" style = \"text-align: left;\">Int64</th><th title = \"Float64\" style = \"text-align: left;\">Float64</th></tr></thead><tbody><tr><td class = \"rowNumber\" style = \"font-weight: bold; text-align: right;\">1</td><td style = \"text-align: right;\">1</td><td style = \"text-align: right;\">6.0</td></tr><tr><td class = \"rowNumber\" style = \"font-weight: bold; text-align: right;\">2</td><td style = \"text-align: right;\">2</td><td style = \"text-align: right;\">7.0</td></tr></tbody></table></div>"
            ],
            "text/latex": [
              "\\begin{tabular}{r|cc}\n",
              "\t& grp & y\\_mean\\\\\n",
              "\t\\hline\n",
              "\t& Int64 & Float64\\\\\n",
              "\t\\hline\n",
              "\t1 & 1 & 6.0 \\\\\n",
              "\t2 & 2 & 7.0 \\\\\n",
              "\\end{tabular}\n"
            ],
            "text/plain": [
              "\u001b[1m2×2 DataFrame\u001b[0m\n",
              "\u001b[1m Row \u001b[0m│\u001b[1m grp   \u001b[0m\u001b[1m y_mean  \u001b[0m\n",
              "     │\u001b[90m Int64 \u001b[0m\u001b[90m Float64 \u001b[0m\n",
              "─────┼────────────────\n",
              "   1 │     1      6.0\n",
              "   2 │     2      7.0"
            ]
          },
          "metadata": {},
          "output_type": "display_data"
        }
      ],
      "source": [
        "combine(groupby(df, :grp), :y => mean)"
      ]
    },
    {
      "attachments": {},
      "cell_type": "markdown",
      "metadata": {},
      "source": [
        "### Reading a CSV file"
      ]
    },
    {
      "attachments": {},
      "cell_type": "markdown",
      "metadata": {},
      "source": [
        "## Broadcasting"
      ]
    },
    {
      "attachments": {},
      "cell_type": "markdown",
      "metadata": {},
      "source": [
        "Broadcasting is a powerful feature in Julia that allows for the application of operations to arrays or collections in a way that is both concise and efficient. Broadcasting can be thought of as a way to extend scalar operations to arrays or collections without having to use explicit loops.\n",
        "\n",
        "In Julia, something like this fails"
      ]
    },
    {
      "cell_type": "code",
      "execution_count": 62,
      "metadata": {},
      "outputs": [
        {
          "ename": "MethodError",
          "evalue": "MethodError: no method matching +(::Vector{Int64}, ::Int64)\nFor element-wise addition, use broadcasting with dot syntax: array .+ scalar\nClosest candidates are:\n  +(::Any, ::Any, !Matched::Any, !Matched::Any...) at operators.jl:591\n  +(!Matched::T, ::T) where T<:Union{Int128, Int16, Int32, Int64, Int8, UInt128, UInt16, UInt32, UInt64, UInt8} at int.jl:87\n  +(!Matched::Base.TwicePrecision, ::Number) at twiceprecision.jl:290\n  ...",
          "output_type": "error",
          "traceback": [
            "MethodError: no method matching +(::Vector{Int64}, ::Int64)\n",
            "For element-wise addition, use broadcasting with dot syntax: array .+ scalar\n",
            "Closest candidates are:\n",
            "  +(::Any, ::Any, !Matched::Any, !Matched::Any...) at operators.jl:591\n",
            "  +(!Matched::T, ::T) where T<:Union{Int128, Int16, Int32, Int64, Int8, UInt128, UInt16, UInt32, UInt64, UInt8} at int.jl:87\n",
            "  +(!Matched::Base.TwicePrecision, ::Number) at twiceprecision.jl:290\n",
            "  ...\n",
            "\n",
            "Stacktrace:\n",
            " [1] top-level scope\n",
            "   @ ~/ETHZ/PostDoc_ELE/teaching/WSL_workshop_Julia/material/Day1/32_dataframe_tuto/32_dataframe_tuto.ipynb:2"
          ]
        }
      ],
      "source": [
        "a = [1, 2, 3, 4]\n",
        "b = a + 1"
      ]
    },
    {
      "attachments": {},
      "cell_type": "markdown",
      "metadata": {},
      "source": [
        "That's where we need broadcasting! Broadcasting is the application of an operation to each element of an array or collection.\n",
        "\n",
        "\n",
        "The syntax for broadcasting is the use of the dot notation `.`, followed by the operator."
      ]
    },
    {
      "cell_type": "code",
      "execution_count": 64,
      "metadata": {},
      "outputs": [
        {
          "data": {
            "text/plain": [
              "4-element Vector{Int64}:\n",
              " 2\n",
              " 3\n",
              " 4\n",
              " 5"
            ]
          },
          "metadata": {},
          "output_type": "display_data"
        }
      ],
      "source": [
        "b = a .+ 1"
      ]
    },
    {
      "attachments": {},
      "cell_type": "markdown",
      "metadata": {},
      "source": [
        "The dot notation tells Julia to apply the `+` operator to each element of `a` and the scalar value `1`."
      ]
    },
    {
      "cell_type": "markdown",
      "metadata": {},
      "source": [
        "\n",
        "Broadcasting can also be used with functions. For example, to apply the sin function to each element of an array, we can write:"
      ]
    },
    {
      "cell_type": "code",
      "execution_count": 69,
      "metadata": {},
      "outputs": [
        {
          "data": {
            "text/plain": [
              "5-element Vector{Float64}:\n",
              "  0.0\n",
              "  1.0\n",
              "  1.2246467991473532e-16\n",
              " -1.0\n",
              " -2.4492935982947064e-16"
            ]
          },
          "metadata": {},
          "output_type": "display_data"
        }
      ],
      "source": [
        "a = [0, π/2, π, 3π/2, 2π]\n",
        "b = sin.(a)"
      ]
    },
    {
      "attachments": {},
      "cell_type": "markdown",
      "metadata": {},
      "source": [
        "#### Comparision with R"
      ]
    },
    {
      "attachments": {},
      "cell_type": "markdown",
      "metadata": {},
      "source": [
        "In R, the `apply` family of functions can be used for similar purposes. For example, to apply the sin function to each element of a vector in R, we can write:\n",
        "\n",
        "```R\n",
        "a <- c(0, pi/2, pi, 3*pi/2, 2*pi)\n",
        "b <- sapply(a, sin)\n",
        "```"
      ]
    },
    {
      "attachments": {},
      "cell_type": "markdown",
      "metadata": {},
      "source": [
        "But the dot notation makes it cleaner and less confusing (at least for me!)"
      ]
    },
    {
      "cell_type": "code",
      "execution_count": 71,
      "metadata": {},
      "outputs": [
        {
          "data": {
            "text/plain": [
              "2-element Vector{Int64}:\n",
              "  6\n",
              " 14"
            ]
          },
          "metadata": {},
          "output_type": "display_data"
        }
      ],
      "source": [
        "a = [1 2; 3 4]\n",
        "b = [2, 2] \n",
        "\n",
        "a * b"
      ]
    },
    {
      "attachments": {},
      "cell_type": "markdown",
      "metadata": {},
      "source": [
        "In R this is equivalent to something like\n",
        "\n",
        "```R\n",
        "a %*% b\n",
        "```\n",
        "\n",
        "while this"
      ]
    },
    {
      "cell_type": "code",
      "execution_count": 72,
      "metadata": {},
      "outputs": [
        {
          "data": {
            "text/plain": [
              "2×2 Matrix{Int64}:\n",
              " 2  4\n",
              " 6  8"
            ]
          },
          "metadata": {},
          "output_type": "display_data"
        }
      ],
      "source": [
        "a .* b"
      ]
    },
    {
      "attachments": {},
      "cell_type": "markdown",
      "metadata": {},
      "source": [
        "Is equivalent in R to \n",
        "```R\n",
        "a * b\n",
        "```\n",
        "R also provides a number of built-in vectorized functions, such as `sqrt`, `exp`, and `sin`, which can be used to operate on arrays in a similar way to broadcasting in Julia."
      ]
    },
    {
      "attachments": {},
      "cell_type": "markdown",
      "metadata": {},
      "source": [
        "### Benefits of broadcasting in Julia\n",
        "\n",
        "-  Allows for **concise and readable code**. Without broadcasting, we would need to use a loop or comprehension to apply a function element-wise to an array, which can be more verbose and harder to read. Broadcasting also allows for more efficient code, since it avoids the overhead of a loop or comprehension.\n",
        "- Allows for more flexible code! Broadcasting can be used with any function, not just arithmetic operators, which means that it can be used with **user-defined functions** as well. This makes it easy to write code that operates on arrays in a flexible and customizable way."
      ]
    },
    {
      "cell_type": "code",
      "execution_count": 83,
      "metadata": {},
      "outputs": [
        {
          "data": {
            "text/plain": [
              "3-element Vector{Int64}:\n",
              " 5\n",
              " 6\n",
              " 7"
            ]
          },
          "metadata": {},
          "output_type": "display_data"
        }
      ],
      "source": [
        "function my_function(x, y)\n",
        "    return x + y^2\n",
        "end\n",
        "\n",
        "a = [1, 2, 3]\n",
        "b = 2\n",
        "c = my_function.(a, b)"
      ]
    },
    {
      "attachments": {},
      "cell_type": "markdown",
      "metadata": {},
      "source": [
        "#### Use of Ref\n",
        "\n",
        "In Julia when you write r = Ref(x) you create a 0-dimensional container storing the x value as its only element. You can retrieve the x object from the Ref value r by writing r[] (notice that we do not pass any indices in the indexing syntax, as the r object is 0-dimensional). The type is named Ref as you can think of it that r is a reference to x.\n",
        "\n",
        "Since Ref objects are 0-dimensional and store exactly one element they have length 1 in every dimension. In consequence if you use the r object in broadcasting the x value stored in it is used in all required dimensions following expansion rules."
      ]
    },
    {
      "cell_type": "code",
      "execution_count": 75,
      "metadata": {},
      "outputs": [
        {
          "data": {
            "text/plain": [
              "false"
            ]
          },
          "metadata": {},
          "output_type": "display_data"
        }
      ],
      "source": [
        "mycountries = [\"USA\" \n",
        "                \"CHN\" \n",
        "                \"JPN\" \n",
        "                \"DEU\" \n",
        "                \"BRA\" \n",
        "                \"FRA\" \n",
        "                \"IRA\" \n",
        "                \"RUS\" \n",
        "                \"GBR\" \n",
        "                \"AUS\" \n",
        "                \"CAN\" \n",
        "                \"IND\" \n",
        "                \"MEX\" \n",
        "                \"KOR\" \n",
        "                \"ESP\" \n",
        "                \"IDN\" \n",
        "                \"TUR\" \n",
        "                \"NLD\" \n",
        "                \"SAU\"]\n",
        "\"CHE\" ∈ mycountries"
      ]
    },
    {
      "cell_type": "code",
      "execution_count": 81,
      "metadata": {},
      "outputs": [
        {
          "ename": "DimensionMismatch",
          "evalue": "DimensionMismatch: arrays could not be broadcast to a common size; got a dimension with lengths 5 and 19",
          "output_type": "error",
          "traceback": [
            "DimensionMismatch: arrays could not be broadcast to a common size; got a dimension with lengths 5 and 19\n",
            "\n",
            "Stacktrace:\n",
            " [1] _bcs1\n",
            "   @ ./broadcast.jl:516 [inlined]\n",
            " [2] _bcs\n",
            "   @ ./broadcast.jl:510 [inlined]\n",
            " [3] broadcast_shape\n",
            "   @ ./broadcast.jl:504 [inlined]\n",
            " [4] combine_axes\n",
            "   @ ./broadcast.jl:499 [inlined]\n",
            " [5] instantiate\n",
            "   @ ./broadcast.jl:281 [inlined]\n",
            " [6] materialize(bc::Base.Broadcast.Broadcasted{Base.Broadcast.DefaultArrayStyle{1}, Nothing, typeof(in), Tuple{Vector{String}, Vector{String}}})\n",
            "   @ Base.Broadcast ./broadcast.jl:860\n",
            " [7] top-level scope\n",
            "   @ ~/ETHZ/PostDoc_ELE/teaching/WSL_workshop_Julia/material/Day1/32_dataframe_tuto/32_dataframe_tuto.ipynb:8"
          ]
        }
      ],
      "source": [
        "\n",
        "mycountries2 = [\"BRA\" \n",
        "                \"FRA\" \n",
        "                \"IRA\" \n",
        "                \"RUS\"\n",
        "                \"CHE\"]\n",
        "\n",
        "mycountries2 .∈ mycountries"
      ]
    },
    {
      "cell_type": "code",
      "execution_count": 82,
      "metadata": {},
      "outputs": [
        {
          "data": {
            "text/plain": [
              "5-element BitVector:\n",
              " 1\n",
              " 1\n",
              " 1\n",
              " 1\n",
              " 0"
            ]
          },
          "metadata": {},
          "output_type": "display_data"
        }
      ],
      "source": [
        "mycountries2 .∈ Ref(mycountries)"
      ]
    },
    {
      "attachments": {},
      "cell_type": "markdown",
      "metadata": {},
      "source": [
        "## Acknowledgement and additional resources\n",
        "- [Bits and pieces of this tutorial have been inspired from the DataFrames.jl documentation](https://dataframes.juliadata.org/stable/)\n",
        "- [Here is a very detailed tutorial for DataFrames.jl](https://dataframes.juliadata.org/stable/man/basics/#Changing-the-Data-Stored-in-a-Data-Frame)"
      ]
    }
  ],
  "metadata": {
    "kernelspec": {
      "display_name": "Julia 1.8.5",
      "language": "julia",
      "name": "julia-1.8"
    },
    "language_info": {
      "file_extension": ".jl",
      "mimetype": "application/julia",
      "name": "julia",
      "version": "1.8.5"
    }
  },
  "nbformat": 4,
  "nbformat_minor": 2
}
