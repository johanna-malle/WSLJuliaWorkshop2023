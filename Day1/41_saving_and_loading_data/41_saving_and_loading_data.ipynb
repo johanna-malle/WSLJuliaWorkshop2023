{
 "cells": [
  {
   "cell_type": "markdown",
   "source": [
    "# Storing and loading data in Julia"
   ],
   "metadata": {
    "name": "A slide ",
    "slideshow": {
     "slide_type": "slide"
    }
   }
  },
  {
   "cell_type": "markdown",
   "source": [
    "Many ways, again:\n",
    "- `DelimitedFiles` -- built in for reading delimited text data (csv-files) into an array\n",
    "  - `CSV.jl` is more performant and makes a data-frame\n",
    "- any Julia thing:\n",
    "  - [JLD2.jl](https://github.com/JuliaIO/JLD2.jl)\n",
    "  - [BSON.jl](https://github.com/JuliaIO/BSON.jl)\n",
    "  - [JLSO.jl](https://github.com/invenia/JLSO.jl) <-- will show this\n",
    "- specialized data\n",
    "  - HDF5\n",
    "  - [NetCDF.jl](https://github.com/JuliaGeo/NetCDF.jl)\n",
    "  - geo-data via Rasters.jl (on Monday\n",
    "  - images, feather, ...\n",
    "  - etc"
   ],
   "metadata": {
    "name": "A slide ",
    "slideshow": {
     "slide_type": "fragment"
    }
   }
  },
  {
   "cell_type": "markdown",
   "source": [
    "# House keeping"
   ],
   "metadata": {
    "name": "A slide ",
    "slideshow": {
     "slide_type": "slide"
    }
   }
  },
  {
   "outputs": [],
   "cell_type": "code",
   "source": [
    "using Pkg\n",
    "Pkg.instantiate()"
   ],
   "metadata": {},
   "execution_count": 1
  },
  {
   "cell_type": "markdown",
   "source": [
    "# DelimitedFiles\n",
    "\n",
    "This is a standard library, i.e. ships with Julia, i.e. no need to install."
   ],
   "metadata": {
    "name": "A slide ",
    "slideshow": {
     "slide_type": "slide"
    }
   }
  },
  {
   "outputs": [
    {
     "output_type": "execute_result",
     "data": {
      "text/plain": "true"
     },
     "metadata": {},
     "execution_count": 2
    }
   ],
   "cell_type": "code",
   "source": [
    "using DelimitedFiles\n",
    "data = rand(4,5)\n",
    "\n",
    "# ?DelimitedFiles.writedlm\n",
    "#\n",
    "# writedlm(f, A, delim='\\t'; opts)\n",
    "\n",
    "writedlm(\"test.csv\", data, ',')\n",
    "data2 = readdlm(\"test.csv\", ',')\n",
    "data==data2\n",
    "\n",
    "# can do header, etc. too"
   ],
   "metadata": {},
   "execution_count": 2
  },
  {
   "cell_type": "markdown",
   "source": [
    "# Store anything (almost)\n",
    "\n",
    "To store anything, I mostly use JLSO.jl, but JLD2.jl should work too"
   ],
   "metadata": {
    "name": "A slide ",
    "slideshow": {
     "slide_type": "slide"
    }
   }
  },
  {
   "outputs": [
    {
     "output_type": "execute_result",
     "data": {
      "text/plain": "Dict{Symbol, Any} with 2 entries:\n  :a => \"A\"\n  :b => sin"
     },
     "metadata": {},
     "execution_count": 3
    }
   ],
   "cell_type": "code",
   "source": [
    "using JLSO\n",
    "\n",
    "data1 = Dict(:a => \"A\", :b => sin)\n",
    "JLSO.save(\"test.jlso\", data1)\n",
    "\n",
    "out = JLSO.load(\"test.jlso\")"
   ],
   "metadata": {},
   "execution_count": 3
  }
 ],
 "nbformat_minor": 3,
 "metadata": {
  "language_info": {
   "file_extension": ".jl",
   "mimetype": "application/julia",
   "name": "julia",
   "version": "1.8.3"
  },
  "kernelspec": {
   "name": "julia-1.8",
   "display_name": "Julia 1.8.3",
   "language": "julia"
  }
 },
 "nbformat": 4
}
