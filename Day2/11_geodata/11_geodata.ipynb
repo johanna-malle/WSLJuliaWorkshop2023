{
 "cells": [
  {
   "cell_type": "markdown",
   "metadata": {
    "name": "A slide ",
    "slideshow": {
     "slide_type": "slide"
    }
   },
   "source": [
    "# Geodata in Julia\n",
    "\n",
    "The geodata ecosystem in Julia has matured a lot, but is not in a fully stable state yet.\n",
    "\n",
    "My geodata skills are pretty basic, but here is what I know..."
   ]
  },
  {
   "cell_type": "markdown",
   "metadata": {
    "name": "A slide ",
    "slideshow": {
     "slide_type": "fragment"
    }
   },
   "source": [
    "My stack:\n",
    "- [Raster.jl](https://github.com/rafaqz/Rasters.jl) for raster data (geotiff, Netcdf, ascii-grid, etc)\n",
    "- [Shapefile.jl](https://github.com/JuliaGeo/Shapefile.jl) for, you guessed, shapefiles\n",
    "- [ArchGDAL.jl](https://github.com/yeesian/ArchGDAL.jl) for interactions with the GDAL lib\n",
    "- [Proj4.jl](https://github.com/JuliaGeo/Proj.jl) for map projections"
   ]
  },
  {
   "cell_type": "markdown",
   "metadata": {
    "name": "A slide ",
    "slideshow": {
     "slide_type": "slide"
    }
   },
   "source": [
    "## Geo Ecosystem\n",
    "\n",
    "- https://juliageo.org/ -- biggest geo-group\n",
    "- https://github.com/JuliaEarth -- for geostatistics\n",
    "- https://ecojulia.org/ -- (spatial)ecology\n",
    "- https://github.com/GenericMappingTools/GMT.jl (for Huw)"
   ]
  },
  {
   "cell_type": "markdown",
   "metadata": {
    "name": "A slide ",
    "slideshow": {
     "slide_type": "slide"
    }
   },
   "source": [
    "## Raster data\n",
    "\n",
    "(a good tutorial https://github.com/xKDR/datascience-tutorials)\n",
    "\n",
    "First download some data:\n",
    "using Pkg; Pkg.instantiate()"
   ]
  },
  {
   "cell_type": "code",
   "execution_count": null,
   "metadata": {},
   "outputs": [],
   "source": [
    "using Downloads # ships with Julia\n",
    "using Rasters, ZipFile\n",
    "mkpath(\"data\")\n",
    "# download if not already downloaded\n",
    "!isfile(\"data/dhm200.zip\") && Downloads.download(\"https://data.geo.admin.ch/ch.swisstopo.digitales-hoehenmodell_25/data.zip\", \"data/dhm200.zip\")\n",
    "# this extracts the file we want from the zip-file (yep, a bit complicated)\n",
    "zip = ZipFile.Reader(\"data/dhm200.zip\")\n",
    "write(\"data/dhm200.asc\", read(zip.files[1]))\n",
    "close(zip)\n",
    "\n",
    "ra = Raster(\"data/dhm200.asc\")"
   ]
  },
  {
   "cell_type": "markdown",
   "metadata": {
    "name": "A slide ",
    "slideshow": {
     "slide_type": "slide"
    }
   },
   "source": [
    "### Plot raster"
   ]
  },
  {
   "cell_type": "code",
   "execution_count": null,
   "metadata": {},
   "outputs": [],
   "source": [
    "using Plots\n",
    "plotly()  # use the Plotly.jl backend, this allows zooming withing the Jupyter notebook\n",
    "plot(ra, ticks=:native,   # thus Rasters.jl provides a plot-receipt and plotting is easy\n",
    "     size=(1000,700),     # make it bigger\n",
    "     max_res=2000)        # Rasters downsamples before plotting to make plotting faster.  Max number of gridpoints"
   ]
  },
  {
   "cell_type": "markdown",
   "metadata": {
    "name": "A slide ",
    "slideshow": {
     "slide_type": "slide"
    }
   },
   "source": [
    "### Index raster\n",
    "\n",
    "Rasters have powerful (but also complicated) indexing capabilities.\n",
    "\n",
    "See https://rafaqz.github.io/Rasters.jl/stable/"
   ]
  },
  {
   "cell_type": "code",
   "execution_count": null,
   "metadata": {},
   "outputs": [],
   "source": [
    "ra[X(Near(600000)), Y(Near(250876))]     # shows where the x-y are"
   ]
  },
  {
   "cell_type": "code",
   "execution_count": null,
   "metadata": {},
   "outputs": [],
   "source": [
    "ra[X(Near(600000)), Y(Near(250876))][1]  # index with the [1] to get the value out"
   ]
  },
  {
   "cell_type": "code",
   "execution_count": null,
   "metadata": {},
   "outputs": [],
   "source": [
    "ra[X(500000..550000), Y(130000..150000)] # a range"
   ]
  },
  {
   "cell_type": "markdown",
   "metadata": {
    "name": "A slide ",
    "slideshow": {
     "slide_type": "slide"
    }
   },
   "source": [
    "### Other raster operations\n",
    "\n",
    "resample, mosaic, crop...\n",
    "\n",
    "See the [docs](https://rafaqz.github.io/Rasters.jl/stable/#Methods-that-change-the-reslolution-or-extent-of-an-object)"
   ]
  },
  {
   "cell_type": "markdown",
   "metadata": {
    "name": "A slide ",
    "slideshow": {
     "slide_type": "slide"
    }
   },
   "source": [
    "### Shapefiles\n",
    "\n",
    "Shapefiles contain vector polygons (and such)\n",
    "\n",
    "First, download and extract data about zip-code (PLZ) areas in Switzerland"
   ]
  },
  {
   "cell_type": "code",
   "execution_count": null,
   "metadata": {},
   "outputs": [],
   "source": [
    "!isfile(\"data/plz.zip\") && Downloads.download(\"https://data.geo.admin.ch/ch.swisstopo-vd.ortschaftenverzeichnis_plz/PLZO_SHP_LV03.zip\", \"data/plz.zip\")\n",
    "zip = ZipFile.Reader(\"data/plz.zip\")\n",
    "for f in zip.files\n",
    "    name = basename(f.name)\n",
    "    if startswith(name, \"PLZO_PLZ\")\n",
    "        write(\"data/$(name)\", read(f))\n",
    "    end\n",
    "end\n",
    "close(zip)"
   ]
  },
  {
   "cell_type": "markdown",
   "metadata": {
    "name": "A slide ",
    "slideshow": {
     "slide_type": "slide"
    }
   },
   "source": [
    "### Shapefiles\n",
    "\n",
    "Read it and select Zermatt (3920)"
   ]
  },
  {
   "cell_type": "code",
   "execution_count": null,
   "metadata": {},
   "outputs": [],
   "source": [
    "using Shapefile\n",
    "tab = Shapefile.Table(\"data/PLZO_PLZ.shp\")\n",
    "\n",
    "zermatt = findfirst(tab.PLZ.==3920)\n",
    "plot(tab.geometry[zermatt])"
   ]
  },
  {
   "cell_type": "markdown",
   "metadata": {},
   "source": [
    "### Shapefiles & DataFrames\n",
    "\n",
    "Shapefiles contain tables of attributes which can be handled with DataFrames, if so desired"
   ]
  },
  {
   "cell_type": "code",
   "execution_count": 27,
   "metadata": {},
   "outputs": [
    {
     "data": {
      "text/html": [
       "<div><div style = \"float: left;\"><span>4127×7 DataFrame</span></div><div style = \"float: right;\"><span style = \"font-style: italic;\">4102 rows omitted</span></div><div style = \"clear: both;\"></div></div><div class = \"data-frame\" style = \"overflow-x: scroll;\"><table class = \"data-frame\" style = \"margin-bottom: 6px;\"><thead><tr class = \"header\"><th class = \"rowNumber\" style = \"font-weight: bold; text-align: right;\">Row</th><th style = \"text-align: left;\">geometry</th><th style = \"text-align: left;\">UUID</th><th style = \"text-align: left;\">OS_UUID</th><th style = \"text-align: left;\">STATUS</th><th style = \"text-align: left;\">INAEND</th><th style = \"text-align: left;\">PLZ</th><th style = \"text-align: left;\">ZUSZIFF</th></tr><tr class = \"subheader headerLastRow\"><th class = \"rowNumber\" style = \"font-weight: bold; text-align: right;\"></th><th title = \"Union{Missing, Shapefile.Polygon}\" style = \"text-align: left;\">Polygon</th><th title = \"String\" style = \"text-align: left;\">String</th><th title = \"String\" style = \"text-align: left;\">String</th><th title = \"String\" style = \"text-align: left;\">String</th><th title = \"String\" style = \"text-align: left;\">String</th><th title = \"Int64\" style = \"text-align: left;\">Int64</th><th title = \"Int64\" style = \"text-align: left;\">Int64</th></tr></thead><tbody><tr><td class = \"rowNumber\" style = \"font-weight: bold; text-align: right;\">1</td><td style = \"text-align: left;\">Polygon(1772 Points)</td><td style = \"text-align: left;\">{0072F991-E46D-447E-A3BE-75467DB57FFC}</td><td style = \"text-align: left;\">{281807DC-9C0B-4364-9A55-0E8956876194}</td><td style = \"text-align: left;\">real</td><td style = \"text-align: left;\">nein</td><td style = \"text-align: right;\">3920</td><td style = \"text-align: right;\">0</td></tr><tr><td class = \"rowNumber\" style = \"font-weight: bold; text-align: right;\">2</td><td style = \"text-align: left;\">Polygon(1809 Points)</td><td style = \"text-align: left;\">{C3D3316F-1DFE-468E-BFC5-5C2308743B4C}</td><td style = \"text-align: left;\">{F065D58C-3F88-46EF-9AA0-DA0A96766333}</td><td style = \"text-align: left;\">real</td><td style = \"text-align: left;\">nein</td><td style = \"text-align: right;\">3864</td><td style = \"text-align: right;\">0</td></tr><tr><td class = \"rowNumber\" style = \"font-weight: bold; text-align: right;\">3</td><td style = \"text-align: left;\">Polygon(1389 Points)</td><td style = \"text-align: left;\">{479E660B-A0A5-4297-AA66-FA62735EFDC6}</td><td style = \"text-align: left;\">{45243689-766B-4FFC-9A14-AF0D17AADE48}</td><td style = \"text-align: left;\">real</td><td style = \"text-align: left;\">nein</td><td style = \"text-align: right;\">1948</td><td style = \"text-align: right;\">1</td></tr><tr><td class = \"rowNumber\" style = \"font-weight: bold; text-align: right;\">4</td><td style = \"text-align: left;\">Polygon(1525 Points)</td><td style = \"text-align: left;\">{FDFBFFDF-11C2-4CC9-B903-EF17677388BF}</td><td style = \"text-align: left;\">{678407FD-30DD-4699-A2D7-FD3602AD9EF0}</td><td style = \"text-align: left;\">real</td><td style = \"text-align: left;\">nein</td><td style = \"text-align: right;\">7504</td><td style = \"text-align: right;\">0</td></tr><tr><td class = \"rowNumber\" style = \"font-weight: bold; text-align: right;\">5</td><td style = \"text-align: left;\">Polygon(1100 Points)</td><td style = \"text-align: left;\">{CB229C54-DF46-45A0-B75F-6E77240B4B03}</td><td style = \"text-align: left;\">{D4A72AA9-CF35-4F14-8AD4-03F2EDAC5BA1}</td><td style = \"text-align: left;\">real</td><td style = \"text-align: left;\">nein</td><td style = \"text-align: right;\">3984</td><td style = \"text-align: right;\">2</td></tr><tr><td class = \"rowNumber\" style = \"font-weight: bold; text-align: right;\">6</td><td style = \"text-align: left;\">Polygon(1690 Points)</td><td style = \"text-align: left;\">{5B28EF42-165A-4C06-AC5B-BFB4068A7988}</td><td style = \"text-align: left;\">{922C55FE-EF7F-46EA-A14B-98D2BDD00B5C}</td><td style = \"text-align: left;\">real</td><td style = \"text-align: left;\">nein</td><td style = \"text-align: right;\">7530</td><td style = \"text-align: right;\">0</td></tr><tr><td class = \"rowNumber\" style = \"font-weight: bold; text-align: right;\">7</td><td style = \"text-align: left;\">Polygon(1477 Points)</td><td style = \"text-align: left;\">{6262A301-67E7-4095-BB32-9A62097205DE}</td><td style = \"text-align: left;\">{EAD450C6-15D2-4243-9DA6-F46D40B74A83}</td><td style = \"text-align: left;\">real</td><td style = \"text-align: left;\">nein</td><td style = \"text-align: right;\">3818</td><td style = \"text-align: right;\">0</td></tr><tr><td class = \"rowNumber\" style = \"font-weight: bold; text-align: right;\">8</td><td style = \"text-align: left;\">Polygon(1536 Points)</td><td style = \"text-align: left;\">{DCC5A542-C9B9-45B6-BD94-546E5B347A8F}</td><td style = \"text-align: left;\">{F744CFF2-ADAC-471D-A054-FE349F787851}</td><td style = \"text-align: left;\">real</td><td style = \"text-align: left;\">nein</td><td style = \"text-align: right;\">7250</td><td style = \"text-align: right;\">0</td></tr><tr><td class = \"rowNumber\" style = \"font-weight: bold; text-align: right;\">9</td><td style = \"text-align: left;\">Polygon(1263 Points)</td><td style = \"text-align: left;\">{195005AC-2846-4DD3-A72C-32765AF4032A}</td><td style = \"text-align: left;\">{3C6766E9-20A4-47BE-8AB5-C3FF1FF53553}</td><td style = \"text-align: left;\">projektiert</td><td style = \"text-align: left;\">nein</td><td style = \"text-align: right;\">7132</td><td style = \"text-align: right;\">0</td></tr><tr><td class = \"rowNumber\" style = \"font-weight: bold; text-align: right;\">10</td><td style = \"text-align: left;\">Polygon(1458 Points)</td><td style = \"text-align: left;\">{88E5D38E-75F1-4694-8C59-1968396A7BBC}</td><td style = \"text-align: left;\">{2F609F6E-1EE8-4FED-8B49-17A2D1B3E224}</td><td style = \"text-align: left;\">real</td><td style = \"text-align: left;\">nein</td><td style = \"text-align: right;\">7550</td><td style = \"text-align: right;\">0</td></tr><tr><td class = \"rowNumber\" style = \"font-weight: bold; text-align: right;\">11</td><td style = \"text-align: left;\">Polygon(1165 Points)</td><td style = \"text-align: left;\">{E6D65221-2598-49D3-BADE-C690CEA23721}</td><td style = \"text-align: left;\">{A1FA8294-D3E0-400F-AE3F-CCBD2D6111BC}</td><td style = \"text-align: left;\">real</td><td style = \"text-align: left;\">nein</td><td style = \"text-align: right;\">3718</td><td style = \"text-align: right;\">0</td></tr><tr><td class = \"rowNumber\" style = \"font-weight: bold; text-align: right;\">12</td><td style = \"text-align: left;\">Polygon(1395 Points)</td><td style = \"text-align: left;\">{E33DF701-C11D-4D87-A660-1067B1677CB0}</td><td style = \"text-align: left;\">{8288A016-69C4-40F9-AE38-3CC00A4EF4EF}</td><td style = \"text-align: left;\">real</td><td style = \"text-align: left;\">nein</td><td style = \"text-align: right;\">8783</td><td style = \"text-align: right;\">0</td></tr><tr><td class = \"rowNumber\" style = \"font-weight: bold; text-align: right;\">13</td><td style = \"text-align: left;\">Polygon(568 Points)</td><td style = \"text-align: left;\">{2C2430F9-1F5B-42AF-AEC9-2ABA7EEDD70F}</td><td style = \"text-align: left;\">{4FCF12AB-836D-4F4D-A2FE-B49790540893}</td><td style = \"text-align: left;\">real</td><td style = \"text-align: left;\">nein</td><td style = \"text-align: right;\">1986</td><td style = \"text-align: right;\">0</td></tr><tr><td style = \"text-align: right;\">&vellip;</td><td style = \"text-align: right;\">&vellip;</td><td style = \"text-align: right;\">&vellip;</td><td style = \"text-align: right;\">&vellip;</td><td style = \"text-align: right;\">&vellip;</td><td style = \"text-align: right;\">&vellip;</td><td style = \"text-align: right;\">&vellip;</td><td style = \"text-align: right;\">&vellip;</td></tr><tr><td class = \"rowNumber\" style = \"font-weight: bold; text-align: right;\">4116</td><td style = \"text-align: left;\">Polygon(68 Points)</td><td style = \"text-align: left;\">{57464BA5-339A-4A49-9E00-8A1AAC2336CF}</td><td style = \"text-align: left;\">{761F2849-8DF6-464D-981C-6EA4056FB77B}</td><td style = \"text-align: left;\">real</td><td style = \"text-align: left;\">nein</td><td style = \"text-align: right;\">9500</td><td style = \"text-align: right;\">0</td></tr><tr><td class = \"rowNumber\" style = \"font-weight: bold; text-align: right;\">4117</td><td style = \"text-align: left;\">Polygon(864 Points)</td><td style = \"text-align: left;\">{E4F99947-AD90-4CA6-9F9E-EC8BD23B92B4}</td><td style = \"text-align: left;\">{B8B6B581-D4CE-49A9-A1DA-3089E77F6E47}</td><td style = \"text-align: left;\">real</td><td style = \"text-align: left;\">nein</td><td style = \"text-align: right;\">9500</td><td style = \"text-align: right;\">0</td></tr><tr><td class = \"rowNumber\" style = \"font-weight: bold; text-align: right;\">4118</td><td style = \"text-align: left;\">Polygon(541 Points)</td><td style = \"text-align: left;\">{EF1022DD-D19F-400B-B65A-0895B64298E9}</td><td style = \"text-align: left;\">{EA1BEE98-F8EE-42EA-A693-F24FAA91EDC8}</td><td style = \"text-align: left;\">real</td><td style = \"text-align: left;\">nein</td><td style = \"text-align: right;\">1298</td><td style = \"text-align: right;\">0</td></tr><tr><td class = \"rowNumber\" style = \"font-weight: bold; text-align: right;\">4119</td><td style = \"text-align: left;\">Polygon(178 Points)</td><td style = \"text-align: left;\">{7D3425A4-F87D-45AB-9831-B5696F32CD56}</td><td style = \"text-align: left;\">{9459A0F0-3D8B-4B5C-B8A9-71316740FBB9}</td><td style = \"text-align: left;\">real</td><td style = \"text-align: left;\">nein</td><td style = \"text-align: right;\">1298</td><td style = \"text-align: right;\">0</td></tr><tr><td class = \"rowNumber\" style = \"font-weight: bold; text-align: right;\">4120</td><td style = \"text-align: left;\">Polygon(776 Points)</td><td style = \"text-align: left;\">{FC1A11CA-C6CA-485F-956F-A5EB04266F50}</td><td style = \"text-align: left;\">{BDA2ACF0-3F38-4933-AD7D-D2B52A513A5D}</td><td style = \"text-align: left;\">real</td><td style = \"text-align: left;\">nein</td><td style = \"text-align: right;\">2300</td><td style = \"text-align: right;\">0</td></tr><tr><td class = \"rowNumber\" style = \"font-weight: bold; text-align: right;\">4121</td><td style = \"text-align: left;\">Polygon(66 Points)</td><td style = \"text-align: left;\">{D4048F8C-0479-45D3-9553-52CCBBFD2CB2}</td><td style = \"text-align: left;\">{1EC960A2-5986-450C-AA43-83FD8C484E7D}</td><td style = \"text-align: left;\">real</td><td style = \"text-align: left;\">nein</td><td style = \"text-align: right;\">6313</td><td style = \"text-align: right;\">0</td></tr><tr><td class = \"rowNumber\" style = \"font-weight: bold; text-align: right;\">4122</td><td style = \"text-align: left;\">Polygon(827 Points)</td><td style = \"text-align: left;\">{0AB97003-6629-4E93-B5B2-AB8C3010234F}</td><td style = \"text-align: left;\">{D20971C9-2923-445E-BEA8-F83AC5C0F904}</td><td style = \"text-align: left;\">real</td><td style = \"text-align: left;\">nein</td><td style = \"text-align: right;\">7526</td><td style = \"text-align: right;\">1</td></tr><tr><td class = \"rowNumber\" style = \"font-weight: bold; text-align: right;\">4123</td><td style = \"text-align: left;\">Polygon(252 Points)</td><td style = \"text-align: left;\">{DF720422-C5F3-42F6-9C13-D434DEE2A665}</td><td style = \"text-align: left;\">{A6F11AED-D238-44D0-9210-BF68BB0ECC37}</td><td style = \"text-align: left;\">real</td><td style = \"text-align: left;\">nein</td><td style = \"text-align: right;\">6981</td><td style = \"text-align: right;\">17</td></tr><tr><td class = \"rowNumber\" style = \"font-weight: bold; text-align: right;\">4124</td><td style = \"text-align: left;\">Polygon(288 Points)</td><td style = \"text-align: left;\">{951C66A5-4E99-4087-AE41-B8CC02A6DF02}</td><td style = \"text-align: left;\">{40AA2284-65A6-4EBB-9856-B778CDBC1527}</td><td style = \"text-align: left;\">real</td><td style = \"text-align: left;\">nein</td><td style = \"text-align: right;\">1473</td><td style = \"text-align: right;\">0</td></tr><tr><td class = \"rowNumber\" style = \"font-weight: bold; text-align: right;\">4125</td><td style = \"text-align: left;\">Polygon(390 Points)</td><td style = \"text-align: left;\">{6F875E75-47D2-4B08-A597-5D0FAEAC233E}</td><td style = \"text-align: left;\">{4185A10F-0BA3-489C-83BF-E4041965201F}</td><td style = \"text-align: left;\">real</td><td style = \"text-align: left;\">nein</td><td style = \"text-align: right;\">7558</td><td style = \"text-align: right;\">0</td></tr><tr><td class = \"rowNumber\" style = \"font-weight: bold; text-align: right;\">4126</td><td style = \"text-align: left;\">Polygon(655 Points)</td><td style = \"text-align: left;\">{FE2BE876-09FD-4775-852F-40DA73A0C82A}</td><td style = \"text-align: left;\">{7663A02D-9483-4622-86EA-07391CD3CB16}</td><td style = \"text-align: left;\">real</td><td style = \"text-align: left;\">nein</td><td style = \"text-align: right;\">1168</td><td style = \"text-align: right;\">0</td></tr><tr><td class = \"rowNumber\" style = \"font-weight: bold; text-align: right;\">4127</td><td style = \"text-align: left;\">Polygon(263 Points)</td><td style = \"text-align: left;\">{93E1E5B8-A8AA-4E33-8910-142D4A0FB514}</td><td style = \"text-align: left;\">{EFA501B5-F577-471A-B98B-75F67D5E605A}</td><td style = \"text-align: left;\">real</td><td style = \"text-align: left;\">nein</td><td style = \"text-align: right;\">3963</td><td style = \"text-align: right;\">5</td></tr></tbody></table></div>"
      ],
      "text/latex": [
       "\\begin{tabular}{r|cccc}\n",
       "\t& geometry & UUID & OS\\_UUID & \\\\\n",
       "\t\\hline\n",
       "\t& Polygon & String & String & \\\\\n",
       "\t\\hline\n",
       "\t1 & Polygon(1772 Points) & \\{0072F991-E46D-447E-A3BE-75467DB57FFC\\} & \\{281807DC-9C0B-4364-9A55-0E8956876194\\} & $\\dots$ \\\\\n",
       "\t2 & Polygon(1809 Points) & \\{C3D3316F-1DFE-468E-BFC5-5C2308743B4C\\} & \\{F065D58C-3F88-46EF-9AA0-DA0A96766333\\} & $\\dots$ \\\\\n",
       "\t3 & Polygon(1389 Points) & \\{479E660B-A0A5-4297-AA66-FA62735EFDC6\\} & \\{45243689-766B-4FFC-9A14-AF0D17AADE48\\} & $\\dots$ \\\\\n",
       "\t4 & Polygon(1525 Points) & \\{FDFBFFDF-11C2-4CC9-B903-EF17677388BF\\} & \\{678407FD-30DD-4699-A2D7-FD3602AD9EF0\\} & $\\dots$ \\\\\n",
       "\t5 & Polygon(1100 Points) & \\{CB229C54-DF46-45A0-B75F-6E77240B4B03\\} & \\{D4A72AA9-CF35-4F14-8AD4-03F2EDAC5BA1\\} & $\\dots$ \\\\\n",
       "\t6 & Polygon(1690 Points) & \\{5B28EF42-165A-4C06-AC5B-BFB4068A7988\\} & \\{922C55FE-EF7F-46EA-A14B-98D2BDD00B5C\\} & $\\dots$ \\\\\n",
       "\t7 & Polygon(1477 Points) & \\{6262A301-67E7-4095-BB32-9A62097205DE\\} & \\{EAD450C6-15D2-4243-9DA6-F46D40B74A83\\} & $\\dots$ \\\\\n",
       "\t8 & Polygon(1536 Points) & \\{DCC5A542-C9B9-45B6-BD94-546E5B347A8F\\} & \\{F744CFF2-ADAC-471D-A054-FE349F787851\\} & $\\dots$ \\\\\n",
       "\t9 & Polygon(1263 Points) & \\{195005AC-2846-4DD3-A72C-32765AF4032A\\} & \\{3C6766E9-20A4-47BE-8AB5-C3FF1FF53553\\} & $\\dots$ \\\\\n",
       "\t10 & Polygon(1458 Points) & \\{88E5D38E-75F1-4694-8C59-1968396A7BBC\\} & \\{2F609F6E-1EE8-4FED-8B49-17A2D1B3E224\\} & $\\dots$ \\\\\n",
       "\t11 & Polygon(1165 Points) & \\{E6D65221-2598-49D3-BADE-C690CEA23721\\} & \\{A1FA8294-D3E0-400F-AE3F-CCBD2D6111BC\\} & $\\dots$ \\\\\n",
       "\t12 & Polygon(1395 Points) & \\{E33DF701-C11D-4D87-A660-1067B1677CB0\\} & \\{8288A016-69C4-40F9-AE38-3CC00A4EF4EF\\} & $\\dots$ \\\\\n",
       "\t13 & Polygon(568 Points) & \\{2C2430F9-1F5B-42AF-AEC9-2ABA7EEDD70F\\} & \\{4FCF12AB-836D-4F4D-A2FE-B49790540893\\} & $\\dots$ \\\\\n",
       "\t14 & Polygon(1358 Points) & \\{1321B152-868D-485E-9540-813FEB5B109E\\} & \\{2544D2CB-D314-4EFD-A98D-3E8090061042\\} & $\\dots$ \\\\\n",
       "\t15 & Polygon(821 Points) & \\{B1290F81-97A6-4241-A557-44568AD79AB6\\} & \\{F33562CF-FB58-4893-8A8F-27D413BFF723\\} & $\\dots$ \\\\\n",
       "\t16 & Polygon(672 Points) & \\{C46EB230-BF3C-4B75-9F7D-048E1ACC4F33\\} & \\{D7708D4D-F0D0-4E8A-88D2-26784C81B518\\} & $\\dots$ \\\\\n",
       "\t17 & Polygon(2492 Points) & \\{8C684F4E-C8CC-4FFA-866E-FECA051BC471\\} & \\{D51A0565-29CD-44D2-8047-8A5A76269A67\\} & $\\dots$ \\\\\n",
       "\t18 & Polygon(1577 Points) & \\{8F3290B0-54BD-4897-9D89-6E90421C761E\\} & \\{DA1FF36B-D279-4EF2-84E2-2302E87084D5\\} & $\\dots$ \\\\\n",
       "\t19 & Polygon(1574 Points) & \\{ECA56177-62D9-47B7-92A6-9E9CB9C03009\\} & \\{2F569B1D-41D2-4306-81F7-E95120E6C643\\} & $\\dots$ \\\\\n",
       "\t20 & Polygon(1532 Points) & \\{3F6EE560-9739-49B6-B65C-DA92B74AA19A\\} & \\{FBF1ECBC-9F45-42D2-9DBF-D85F4290FB56\\} & $\\dots$ \\\\\n",
       "\t21 & Polygon(717 Points) & \\{9566A37F-83B4-4182-A81A-32EA98C199BB\\} & \\{EF3184EF-B47E-4D9E-91AB-4E1AE769F494\\} & $\\dots$ \\\\\n",
       "\t22 & Polygon(1061 Points) & \\{EA34B036-B7ED-46CB-91AC-DE2CBADBE8E0\\} & \\{22E3DA1C-7DD4-4FD5-9876-F4830FC6CF04\\} & $\\dots$ \\\\\n",
       "\t23 & Polygon(899 Points) & \\{16778F4B-9F7E-4C61-A488-966924A71E78\\} & \\{1E3F77CF-9024-4135-A17C-155F7C6043F5\\} & $\\dots$ \\\\\n",
       "\t24 & Polygon(766 Points) & \\{4CC540A7-AB71-4E15-A637-79E452996272\\} & \\{8198B95F-35CE-47D1-A857-ADBFCD2A1127\\} & $\\dots$ \\\\\n",
       "\t25 & Polygon(1526 Points) & \\{E07A07B1-D817-4B17-A38E-2DCF19F6CC9A\\} & \\{67EE150D-BB4C-4C91-ACD2-A1EF237805FA\\} & $\\dots$ \\\\\n",
       "\t26 & Polygon(858 Points) & \\{C676B0ED-4BB1-41F7-8E4E-1E71DD4EA23D\\} & \\{26EB0EE9-9168-4646-B162-258CF64B10CF\\} & $\\dots$ \\\\\n",
       "\t27 & Polygon(634 Points) & \\{C2C89C82-CCF6-40AB-9E78-2D906A6737E2\\} & \\{C4AAAADC-DA4A-4ADE-BC33-F949EA53F80B\\} & $\\dots$ \\\\\n",
       "\t28 & Polygon(766 Points) & \\{C0C58FB1-0427-4582-B45A-58DA4028F012\\} & \\{5ECFC759-A315-4E09-B2A5-6921967B3E7B\\} & $\\dots$ \\\\\n",
       "\t29 & Polygon(1244 Points) & \\{F3D28A59-0DD7-4FF8-82AB-081DE5E6C85D\\} & \\{105358C2-65F4-4418-A5AF-B1EAC3E160D6\\} & $\\dots$ \\\\\n",
       "\t30 & Polygon(1170 Points) & \\{77206F65-8C52-4C86-88BA-7C127E8E4B7C\\} & \\{BE930C3E-B2C4-4977-B500-1E117D4206F0\\} & $\\dots$ \\\\\n",
       "\t$\\dots$ & $\\dots$ & $\\dots$ & $\\dots$ &  \\\\\n",
       "\\end{tabular}\n"
      ],
      "text/plain": [
       "\u001b[1m4127×7 DataFrame\u001b[0m\n",
       "\u001b[1m  Row \u001b[0m│\u001b[1m geometry             \u001b[0m\u001b[1m UUID                              \u001b[0m\u001b[1m OS_UUID      \u001b[0m ⋯\n",
       "      │\u001b[90m Polygon              \u001b[0m\u001b[90m String                            \u001b[0m\u001b[90m String       \u001b[0m ⋯\n",
       "──────┼─────────────────────────────────────────────────────────────────────────\n",
       "    1 │ Polygon(1772 Points)  {0072F991-E46D-447E-A3BE-75467DB…  {281807DC-9C0 ⋯\n",
       "    2 │ Polygon(1809 Points)  {C3D3316F-1DFE-468E-BFC5-5C23087…  {F065D58C-3F8\n",
       "    3 │ Polygon(1389 Points)  {479E660B-A0A5-4297-AA66-FA62735…  {45243689-766\n",
       "    4 │ Polygon(1525 Points)  {FDFBFFDF-11C2-4CC9-B903-EF17677…  {678407FD-30D\n",
       "    5 │ Polygon(1100 Points)  {CB229C54-DF46-45A0-B75F-6E77240…  {D4A72AA9-CF3 ⋯\n",
       "    6 │ Polygon(1690 Points)  {5B28EF42-165A-4C06-AC5B-BFB4068…  {922C55FE-EF7\n",
       "    7 │ Polygon(1477 Points)  {6262A301-67E7-4095-BB32-9A62097…  {EAD450C6-15D\n",
       "    8 │ Polygon(1536 Points)  {DCC5A542-C9B9-45B6-BD94-546E5B3…  {F744CFF2-ADA\n",
       "    9 │ Polygon(1263 Points)  {195005AC-2846-4DD3-A72C-32765AF…  {3C6766E9-20A ⋯\n",
       "   10 │ Polygon(1458 Points)  {88E5D38E-75F1-4694-8C59-1968396…  {2F609F6E-1EE\n",
       "   11 │ Polygon(1165 Points)  {E6D65221-2598-49D3-BADE-C690CEA…  {A1FA8294-D3E\n",
       "  ⋮   │          ⋮                            ⋮                                ⋱\n",
       " 4118 │ Polygon(541 Points)   {EF1022DD-D19F-400B-B65A-0895B64…  {EA1BEE98-F8E\n",
       " 4119 │ Polygon(178 Points)   {7D3425A4-F87D-45AB-9831-B5696F3…  {9459A0F0-3D8 ⋯\n",
       " 4120 │ Polygon(776 Points)   {FC1A11CA-C6CA-485F-956F-A5EB042…  {BDA2ACF0-3F3\n",
       " 4121 │ Polygon(66 Points)    {D4048F8C-0479-45D3-9553-52CCBBF…  {1EC960A2-598\n",
       " 4122 │ Polygon(827 Points)   {0AB97003-6629-4E93-B5B2-AB8C301…  {D20971C9-292\n",
       " 4123 │ Polygon(252 Points)   {DF720422-C5F3-42F6-9C13-D434DEE…  {A6F11AED-D23 ⋯\n",
       " 4124 │ Polygon(288 Points)   {951C66A5-4E99-4087-AE41-B8CC02A…  {40AA2284-65A\n",
       " 4125 │ Polygon(390 Points)   {6F875E75-47D2-4B08-A597-5D0FAEA…  {4185A10F-0BA\n",
       " 4126 │ Polygon(655 Points)   {FE2BE876-09FD-4775-852F-40DA73A…  {7663A02D-948\n",
       " 4127 │ Polygon(263 Points)   {93E1E5B8-A8AA-4E33-8910-142D4A0…  {EFA501B5-F57 ⋯\n",
       "\u001b[36m                                                 5 columns and 4106 rows omitted\u001b[0m"
      ]
     },
     "execution_count": 27,
     "metadata": {},
     "output_type": "execute_result"
    }
   ],
   "source": [
    "using DataFrames\n",
    "DataFrame(tab)"
   ]
  },
  {
   "cell_type": "markdown",
   "metadata": {
    "name": "A slide ",
    "slideshow": {
     "slide_type": "slide"
    }
   },
   "source": [
    "### Crop and mask raster\n",
    "\n",
    "Read it and select Zermatt (3920)"
   ]
  },
  {
   "cell_type": "code",
   "execution_count": null,
   "metadata": {},
   "outputs": [],
   "source": [
    "ra_z = crop(ra; to = tab.geometry[zermatt])\n",
    "mask_z = mask(ra_z, with = tab.geometry[zermatt])\n",
    "plot(mask_z)"
   ]
  },
  {
   "cell_type": "markdown",
   "metadata": {
    "name": "A slide ",
    "slideshow": {
     "slide_type": "slide"
    }
   },
   "source": [
    "# Exercise\n",
    "\n",
    "- Download the Swiss Glacier Inventory 2016 from https://www.glamos.ch/en/downloads#inventories/B56-03\n",
    "- look up Gornergletscher\n",
    "- plot it into the last plot we just did\n",
    "- mask the elevation map with the Gornergletscher outline and calculate the mean elevation"
   ]
  }
 ],
 "metadata": {
  "kernelspec": {
   "display_name": "Julia 1.8.3",
   "language": "julia",
   "name": "julia-1.8"
  },
  "language_info": {
   "file_extension": ".jl",
   "mimetype": "application/julia",
   "name": "julia",
   "version": "1.8.3"
  }
 },
 "nbformat": 4,
 "nbformat_minor": 3
}
